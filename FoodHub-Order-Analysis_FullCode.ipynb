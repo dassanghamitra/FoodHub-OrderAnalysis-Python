{
  "cells": [
    {
      "cell_type": "markdown",
      "metadata": {
        "id": "Gc8x8QimJY_H"
      },
      "source": [
        "# Project Python Foundations: FoodHub Data Analysis\n",
        "\n",
        "**Marks: 60**"
      ]
    },
    {
      "cell_type": "markdown",
      "metadata": {
        "id": "NqikjkWwJY_L"
      },
      "source": [
        "### Context\n",
        "\n",
        "The number of restaurants in New York is increasing day by day. Lots of students and busy professionals rely on those restaurants due to their hectic lifestyles. Online food delivery service is a great option for them. It provides them with good food from their favorite restaurants. A food aggregator company FoodHub offers access to multiple restaurants through a single smartphone app.\n",
        "\n",
        "The app allows the restaurants to receive a direct online order from a customer. The app assigns a delivery person from the company to pick up the order after it is confirmed by the restaurant. The delivery person then uses the map to reach the restaurant and waits for the food package. Once the food package is handed over to the delivery person, he/she confirms the pick-up in the app and travels to the customer's location to deliver the food. The delivery person confirms the drop-off in the app after delivering the food package to the customer. The customer can rate the order in the app. The food aggregator earns money by collecting a fixed margin of the delivery order from the restaurants.\n",
        "\n",
        "### Objective\n",
        "\n",
        "The food aggregator company has stored the data of the different orders made by the registered customers in their online portal. They want to analyze the data to get a fair idea about the demand of different restaurants which will help them in enhancing their customer experience. Suppose you are hired as a Data Scientist in this company and the Data Science team has shared some of the key questions that need to be answered. Perform the data analysis to find answers to these questions that will help the company to improve the business. \n",
        "\n",
        "### Data Description\n",
        "\n",
        "The data contains the different data related to a food order. The detailed data dictionary is given below.\n",
        "\n",
        "### Data Dictionary\n",
        "\n",
        "* order_id: Unique ID of the order\n",
        "* customer_id: ID of the customer who ordered the food\n",
        "* restaurant_name: Name of the restaurant\n",
        "* cuisine_type: Cuisine ordered by the customer\n",
        "* cost: Cost of the order\n",
        "* day_of_the_week: Indicates whether the order is placed on a weekday or weekend (The weekday is from Monday to Friday and the weekend is Saturday and Sunday)\n",
        "* rating: Rating given by the customer out of 5\n",
        "* food_preparation_time: Time (in minutes) taken by the restaurant to prepare the food. This is calculated by taking the difference between the timestamps of the restaurant's order confirmation and the delivery person's pick-up confirmation.\n",
        "* delivery_time: Time (in minutes) taken by the delivery person to deliver the food package. This is calculated by taking the difference between the timestamps of the delivery person's pick-up confirmation and drop-off information"
      ]
    },
    {
      "cell_type": "markdown",
      "metadata": {
        "id": "cEtNUxNAJY_M"
      },
      "source": [
        "### Let us start by importing the required libraries"
      ]
    },
    {
      "cell_type": "code",
      "execution_count": null,
      "metadata": {
        "id": "u6PlpJAPJY_N"
      },
      "outputs": [],
      "source": [
        "# import libraries for data manipulation\n",
        "import numpy as np\n",
        "import pandas as pd\n",
        "\n",
        "# import libraries for data visualization\n",
        "import matplotlib.pyplot as plt\n",
        "import seaborn as sns\n",
        "\n",
        "# Command to tell Python to actually display the graphs\n",
        "%matplotlib inline\n",
        "pd.set_option(\"display.float_format\", lambda x: \"%.2f\" % x) #to display values upto 2 decimal places"
      ]
    },
    {
      "cell_type": "markdown",
      "metadata": {
        "id": "AdracY0HJY_O"
      },
      "source": [
        "### Understanding the structure of the data"
      ]
    },
    {
      "cell_type": "code",
      "execution_count": null,
      "metadata": {
        "id": "WBh2ZGB9kFhU",
        "colab": {
          "base_uri": "https://localhost:8080/"
        },
        "outputId": "13299a0e-f7a7-4db1-dfb2-bc9c3d530095"
      },
      "outputs": [
        {
          "output_type": "stream",
          "name": "stdout",
          "text": [
            "Mounted at /content/drive\n"
          ]
        }
      ],
      "source": [
        "# Connecting Google Colab and mounting \n",
        "from google.colab import drive\n",
        "drive.mount('/content/drive')"
      ]
    },
    {
      "cell_type": "code",
      "execution_count": null,
      "metadata": {
        "id": "GF01IZDbJY_O",
        "scrolled": false,
        "colab": {
          "base_uri": "https://localhost:8080/",
          "height": 206
        },
        "outputId": "c10b2e2b-90f2-48a9-e0c7-de6f4c0e694c"
      },
      "outputs": [
        {
          "output_type": "execute_result",
          "data": {
            "text/plain": [
              "   order_id  customer_id            restaurant_name cuisine_type  \\\n",
              "0   1477147       337525                    Hangawi       Korean   \n",
              "1   1477685       358141  Blue Ribbon Sushi Izakaya     Japanese   \n",
              "2   1477070        66393                Cafe Habana      Mexican   \n",
              "3   1477334       106968  Blue Ribbon Fried Chicken     American   \n",
              "4   1478249        76942           Dirty Bird to Go     American   \n",
              "\n",
              "   cost_of_the_order day_of_the_week     rating  food_preparation_time  \\\n",
              "0              30.75         Weekend  Not given                     25   \n",
              "1              12.08         Weekend  Not given                     25   \n",
              "2              12.23         Weekday          5                     23   \n",
              "3              29.20         Weekend          3                     25   \n",
              "4              11.59         Weekday          4                     25   \n",
              "\n",
              "   delivery_time  \n",
              "0             20  \n",
              "1             23  \n",
              "2             28  \n",
              "3             15  \n",
              "4             24  "
            ],
            "text/html": [
              "\n",
              "  <div id=\"df-2bd93f13-d103-427a-92cf-2fa7048ab012\">\n",
              "    <div class=\"colab-df-container\">\n",
              "      <div>\n",
              "<style scoped>\n",
              "    .dataframe tbody tr th:only-of-type {\n",
              "        vertical-align: middle;\n",
              "    }\n",
              "\n",
              "    .dataframe tbody tr th {\n",
              "        vertical-align: top;\n",
              "    }\n",
              "\n",
              "    .dataframe thead th {\n",
              "        text-align: right;\n",
              "    }\n",
              "</style>\n",
              "<table border=\"1\" class=\"dataframe\">\n",
              "  <thead>\n",
              "    <tr style=\"text-align: right;\">\n",
              "      <th></th>\n",
              "      <th>order_id</th>\n",
              "      <th>customer_id</th>\n",
              "      <th>restaurant_name</th>\n",
              "      <th>cuisine_type</th>\n",
              "      <th>cost_of_the_order</th>\n",
              "      <th>day_of_the_week</th>\n",
              "      <th>rating</th>\n",
              "      <th>food_preparation_time</th>\n",
              "      <th>delivery_time</th>\n",
              "    </tr>\n",
              "  </thead>\n",
              "  <tbody>\n",
              "    <tr>\n",
              "      <th>0</th>\n",
              "      <td>1477147</td>\n",
              "      <td>337525</td>\n",
              "      <td>Hangawi</td>\n",
              "      <td>Korean</td>\n",
              "      <td>30.75</td>\n",
              "      <td>Weekend</td>\n",
              "      <td>Not given</td>\n",
              "      <td>25</td>\n",
              "      <td>20</td>\n",
              "    </tr>\n",
              "    <tr>\n",
              "      <th>1</th>\n",
              "      <td>1477685</td>\n",
              "      <td>358141</td>\n",
              "      <td>Blue Ribbon Sushi Izakaya</td>\n",
              "      <td>Japanese</td>\n",
              "      <td>12.08</td>\n",
              "      <td>Weekend</td>\n",
              "      <td>Not given</td>\n",
              "      <td>25</td>\n",
              "      <td>23</td>\n",
              "    </tr>\n",
              "    <tr>\n",
              "      <th>2</th>\n",
              "      <td>1477070</td>\n",
              "      <td>66393</td>\n",
              "      <td>Cafe Habana</td>\n",
              "      <td>Mexican</td>\n",
              "      <td>12.23</td>\n",
              "      <td>Weekday</td>\n",
              "      <td>5</td>\n",
              "      <td>23</td>\n",
              "      <td>28</td>\n",
              "    </tr>\n",
              "    <tr>\n",
              "      <th>3</th>\n",
              "      <td>1477334</td>\n",
              "      <td>106968</td>\n",
              "      <td>Blue Ribbon Fried Chicken</td>\n",
              "      <td>American</td>\n",
              "      <td>29.20</td>\n",
              "      <td>Weekend</td>\n",
              "      <td>3</td>\n",
              "      <td>25</td>\n",
              "      <td>15</td>\n",
              "    </tr>\n",
              "    <tr>\n",
              "      <th>4</th>\n",
              "      <td>1478249</td>\n",
              "      <td>76942</td>\n",
              "      <td>Dirty Bird to Go</td>\n",
              "      <td>American</td>\n",
              "      <td>11.59</td>\n",
              "      <td>Weekday</td>\n",
              "      <td>4</td>\n",
              "      <td>25</td>\n",
              "      <td>24</td>\n",
              "    </tr>\n",
              "  </tbody>\n",
              "</table>\n",
              "</div>\n",
              "      <button class=\"colab-df-convert\" onclick=\"convertToInteractive('df-2bd93f13-d103-427a-92cf-2fa7048ab012')\"\n",
              "              title=\"Convert this dataframe to an interactive table.\"\n",
              "              style=\"display:none;\">\n",
              "        \n",
              "  <svg xmlns=\"http://www.w3.org/2000/svg\" height=\"24px\"viewBox=\"0 0 24 24\"\n",
              "       width=\"24px\">\n",
              "    <path d=\"M0 0h24v24H0V0z\" fill=\"none\"/>\n",
              "    <path d=\"M18.56 5.44l.94 2.06.94-2.06 2.06-.94-2.06-.94-.94-2.06-.94 2.06-2.06.94zm-11 1L8.5 8.5l.94-2.06 2.06-.94-2.06-.94L8.5 2.5l-.94 2.06-2.06.94zm10 10l.94 2.06.94-2.06 2.06-.94-2.06-.94-.94-2.06-.94 2.06-2.06.94z\"/><path d=\"M17.41 7.96l-1.37-1.37c-.4-.4-.92-.59-1.43-.59-.52 0-1.04.2-1.43.59L10.3 9.45l-7.72 7.72c-.78.78-.78 2.05 0 2.83L4 21.41c.39.39.9.59 1.41.59.51 0 1.02-.2 1.41-.59l7.78-7.78 2.81-2.81c.8-.78.8-2.07 0-2.86zM5.41 20L4 18.59l7.72-7.72 1.47 1.35L5.41 20z\"/>\n",
              "  </svg>\n",
              "      </button>\n",
              "      \n",
              "  <style>\n",
              "    .colab-df-container {\n",
              "      display:flex;\n",
              "      flex-wrap:wrap;\n",
              "      gap: 12px;\n",
              "    }\n",
              "\n",
              "    .colab-df-convert {\n",
              "      background-color: #E8F0FE;\n",
              "      border: none;\n",
              "      border-radius: 50%;\n",
              "      cursor: pointer;\n",
              "      display: none;\n",
              "      fill: #1967D2;\n",
              "      height: 32px;\n",
              "      padding: 0 0 0 0;\n",
              "      width: 32px;\n",
              "    }\n",
              "\n",
              "    .colab-df-convert:hover {\n",
              "      background-color: #E2EBFA;\n",
              "      box-shadow: 0px 1px 2px rgba(60, 64, 67, 0.3), 0px 1px 3px 1px rgba(60, 64, 67, 0.15);\n",
              "      fill: #174EA6;\n",
              "    }\n",
              "\n",
              "    [theme=dark] .colab-df-convert {\n",
              "      background-color: #3B4455;\n",
              "      fill: #D2E3FC;\n",
              "    }\n",
              "\n",
              "    [theme=dark] .colab-df-convert:hover {\n",
              "      background-color: #434B5C;\n",
              "      box-shadow: 0px 1px 3px 1px rgba(0, 0, 0, 0.15);\n",
              "      filter: drop-shadow(0px 1px 2px rgba(0, 0, 0, 0.3));\n",
              "      fill: #FFFFFF;\n",
              "    }\n",
              "  </style>\n",
              "\n",
              "      <script>\n",
              "        const buttonEl =\n",
              "          document.querySelector('#df-2bd93f13-d103-427a-92cf-2fa7048ab012 button.colab-df-convert');\n",
              "        buttonEl.style.display =\n",
              "          google.colab.kernel.accessAllowed ? 'block' : 'none';\n",
              "\n",
              "        async function convertToInteractive(key) {\n",
              "          const element = document.querySelector('#df-2bd93f13-d103-427a-92cf-2fa7048ab012');\n",
              "          const dataTable =\n",
              "            await google.colab.kernel.invokeFunction('convertToInteractive',\n",
              "                                                     [key], {});\n",
              "          if (!dataTable) return;\n",
              "\n",
              "          const docLinkHtml = 'Like what you see? Visit the ' +\n",
              "            '<a target=\"_blank\" href=https://colab.research.google.com/notebooks/data_table.ipynb>data table notebook</a>'\n",
              "            + ' to learn more about interactive tables.';\n",
              "          element.innerHTML = '';\n",
              "          dataTable['output_type'] = 'display_data';\n",
              "          await google.colab.output.renderOutput(dataTable, element);\n",
              "          const docLink = document.createElement('div');\n",
              "          docLink.innerHTML = docLinkHtml;\n",
              "          element.appendChild(docLink);\n",
              "        }\n",
              "      </script>\n",
              "    </div>\n",
              "  </div>\n",
              "  "
            ]
          },
          "metadata": {},
          "execution_count": 3
        }
      ],
      "source": [
        "# Reading the data from CSV files which is stored in google drive folder\n",
        "df = pd.read_csv('/content/drive/MyDrive/PythonCourse/foodhub_order.csv')\n",
        "# Checking at head (5 observations) \n",
        "df.head()"
      ]
    },
    {
      "cell_type": "markdown",
      "metadata": {
        "id": "J_Y9aJDJJY_P"
      },
      "source": [
        "#### Observations:\n",
        "\n",
        "The DataFrame has 9 columns as mentioned in the Data Dictionary. Data in each row corresponds to the order placed by a customer.\n",
        "\n",
        "* order_id : column contains order_id of the order. Order_id is unique for each order\n",
        "* customer_id: contains customer_id for customer. customer_id is unioque for each indivisual customer.\n",
        "* restaurant_name : contains restaurant name for wich order has been placed.\n",
        "* cuisine_type : contains cuisine of the food\n",
        "*\tcost_of_the_order : contains cost of the order in dollar\n",
        "*\tday_of_the_week\t: contain value if the order has been placed on weekdays or weekend\n",
        "* rating : contains rating given by customer for the order\n",
        "*\tfood_preparation_time : time taken in minutes to prepare the food\t\n",
        "* delivery_time : time taken in minutes to deliver the food\n",
        "\n",
        "* order_id, customer_id, cost_of_the_order, food_preparation_time, and delivery_time are numerical variables\n",
        "* restaurant_name, cuisine_type, day_of_the_week, and rating are categorical variables"
      ]
    },
    {
      "cell_type": "markdown",
      "metadata": {
        "id": "c3kenV4vJY_Q"
      },
      "source": [
        "### **Question 1:** How many rows and columns are present in the data? [0.5 mark]"
      ]
    },
    {
      "cell_type": "code",
      "execution_count": null,
      "metadata": {
        "id": "Yvz5i-PhJY_Q",
        "colab": {
          "base_uri": "https://localhost:8080/"
        },
        "outputId": "ef508d29-396f-426b-91d1-268ea23c9b40"
      },
      "outputs": [
        {
          "output_type": "execute_result",
          "data": {
            "text/plain": [
              "(1898, 9)"
            ]
          },
          "metadata": {},
          "execution_count": 29
        }
      ],
      "source": [
        "# Using shape to get number of columns and rows in the dataframe\n",
        "df.shape"
      ]
    },
    {
      "cell_type": "markdown",
      "metadata": {
        "id": "UsTNy3unJY_R"
      },
      "source": [
        "#### Observations:\n",
        "There are **1898 rows and 9 columns** in the data set"
      ]
    },
    {
      "cell_type": "markdown",
      "metadata": {
        "id": "jRXakVrUJY_R"
      },
      "source": [
        "### **Question 2:** What are the datatypes of the different columns in the dataset? (The info() function can be used) [0.5 mark]"
      ]
    },
    {
      "cell_type": "code",
      "execution_count": null,
      "metadata": {
        "id": "Kp70Z0BNJY_R",
        "colab": {
          "base_uri": "https://localhost:8080/"
        },
        "outputId": "ace63988-4f5b-475f-f067-549489a66282"
      },
      "outputs": [
        {
          "output_type": "stream",
          "name": "stdout",
          "text": [
            "<class 'pandas.core.frame.DataFrame'>\n",
            "RangeIndex: 1898 entries, 0 to 1897\n",
            "Data columns (total 9 columns):\n",
            " #   Column                 Non-Null Count  Dtype  \n",
            "---  ------                 --------------  -----  \n",
            " 0   order_id               1898 non-null   int64  \n",
            " 1   customer_id            1898 non-null   int64  \n",
            " 2   restaurant_name        1898 non-null   object \n",
            " 3   cuisine_type           1898 non-null   object \n",
            " 4   cost_of_the_order      1898 non-null   float64\n",
            " 5   day_of_the_week        1898 non-null   object \n",
            " 6   rating                 1898 non-null   object \n",
            " 7   food_preparation_time  1898 non-null   int64  \n",
            " 8   delivery_time          1898 non-null   int64  \n",
            "dtypes: float64(1), int64(4), object(4)\n",
            "memory usage: 133.6+ KB\n"
          ]
        }
      ],
      "source": [
        "# Using function - info() to print a summary of the DataFrame\n",
        "# which shows the name, datatype of columns and non-null count\n",
        "# also, shows memory usage of the DataFrame\n",
        "\n",
        "df.info()"
      ]
    },
    {
      "cell_type": "markdown",
      "metadata": {
        "id": "WJes5GP2JY_S"
      },
      "source": [
        "#### Observations:\n",
        "There are total 1898 entriesand 9 columns in the Food Hub dataset\n",
        "\n",
        "*  order_id ,customer_id , food_preparation_time, delivery_time - **int64 datatype/ numerical columns**\n",
        "*  restaurant name, cuisine type, day of the week, rating - **object type/categorical.**\n",
        "* cost_of_the_order - **float64**\n",
        "* There is no missing data in any of the columns as numbers in Non-Null Count is same for all columns\n",
        "\n",
        "memory usage is 133.6+ KB.\n"
      ]
    },
    {
      "cell_type": "markdown",
      "metadata": {
        "id": "pF_92MN6JY_S"
      },
      "source": [
        "### **Question 3:** Are there any missing values in the data? If yes, treat them using an appropriate method. [1 mark]"
      ]
    },
    {
      "cell_type": "code",
      "execution_count": null,
      "metadata": {
        "id": "Zth-RR1PJY_S",
        "colab": {
          "base_uri": "https://localhost:8080/"
        },
        "outputId": "e8510571-9931-43f8-cdb5-46cd171a6c29"
      },
      "outputs": [
        {
          "output_type": "execute_result",
          "data": {
            "text/plain": [
              "order_id                 0\n",
              "customer_id              0\n",
              "restaurant_name          0\n",
              "cuisine_type             0\n",
              "cost_of_the_order        0\n",
              "day_of_the_week          0\n",
              "rating                   0\n",
              "food_preparation_time    0\n",
              "delivery_time            0\n",
              "dtype: int64"
            ]
          },
          "metadata": {},
          "execution_count": 31
        }
      ],
      "source": [
        "# isnull() : Detects the null values in the data set\n",
        "\n",
        "# isnull().sum() : Counts the numbers of missing values in data set for each column\n",
        "df.isnull().sum()\n"
      ]
    },
    {
      "cell_type": "markdown",
      "metadata": {
        "id": "jDHT3vD1JY_S"
      },
      "source": [
        "#### Observations:\n",
        "There is no missing values in any of the columns as null count is 0 for all columns"
      ]
    },
    {
      "cell_type": "markdown",
      "metadata": {
        "id": "MnJo7MWrJY_S"
      },
      "source": [
        "### **Question 4:** Check the statistical summary of the data. What is the minimum, average, and maximum time it takes for food to be prepared once an order is placed? [2 marks]"
      ]
    },
    {
      "cell_type": "code",
      "execution_count": null,
      "metadata": {
        "id": "WprQBgOSJY_T",
        "scrolled": true,
        "colab": {
          "base_uri": "https://localhost:8080/",
          "height": 331
        },
        "outputId": "47ddc5d8-f805-468d-c195-aa88fae4fccc"
      },
      "outputs": [
        {
          "output_type": "execute_result",
          "data": {
            "text/plain": [
              "                        count unique          top  freq       mean       std  \\\n",
              "order_id              1898.00    NaN          NaN   NaN 1477495.50    548.05   \n",
              "customer_id           1898.00    NaN          NaN   NaN  171168.48 113698.14   \n",
              "restaurant_name          1898    178  Shake Shack   219        NaN       NaN   \n",
              "cuisine_type             1898     14     American   584        NaN       NaN   \n",
              "cost_of_the_order     1898.00    NaN          NaN   NaN      16.50      7.48   \n",
              "day_of_the_week          1898      2      Weekend  1351        NaN       NaN   \n",
              "rating                   1898      4    Not given   736        NaN       NaN   \n",
              "food_preparation_time 1898.00    NaN          NaN   NaN      27.37      4.63   \n",
              "delivery_time         1898.00    NaN          NaN   NaN      24.16      4.97   \n",
              "\n",
              "                             min        25%        50%        75%        max  \n",
              "order_id              1476547.00 1477021.25 1477495.50 1477969.75 1478444.00  \n",
              "customer_id              1311.00   77787.75  128600.00  270525.00  405334.00  \n",
              "restaurant_name              NaN        NaN        NaN        NaN        NaN  \n",
              "cuisine_type                 NaN        NaN        NaN        NaN        NaN  \n",
              "cost_of_the_order           4.47      12.08      14.14      22.30      35.41  \n",
              "day_of_the_week              NaN        NaN        NaN        NaN        NaN  \n",
              "rating                       NaN        NaN        NaN        NaN        NaN  \n",
              "food_preparation_time      20.00      23.00      27.00      31.00      35.00  \n",
              "delivery_time              15.00      20.00      25.00      28.00      33.00  "
            ],
            "text/html": [
              "\n",
              "  <div id=\"df-0a374f42-7cb9-4acb-bffd-f24c7b4ce3ed\">\n",
              "    <div class=\"colab-df-container\">\n",
              "      <div>\n",
              "<style scoped>\n",
              "    .dataframe tbody tr th:only-of-type {\n",
              "        vertical-align: middle;\n",
              "    }\n",
              "\n",
              "    .dataframe tbody tr th {\n",
              "        vertical-align: top;\n",
              "    }\n",
              "\n",
              "    .dataframe thead th {\n",
              "        text-align: right;\n",
              "    }\n",
              "</style>\n",
              "<table border=\"1\" class=\"dataframe\">\n",
              "  <thead>\n",
              "    <tr style=\"text-align: right;\">\n",
              "      <th></th>\n",
              "      <th>count</th>\n",
              "      <th>unique</th>\n",
              "      <th>top</th>\n",
              "      <th>freq</th>\n",
              "      <th>mean</th>\n",
              "      <th>std</th>\n",
              "      <th>min</th>\n",
              "      <th>25%</th>\n",
              "      <th>50%</th>\n",
              "      <th>75%</th>\n",
              "      <th>max</th>\n",
              "    </tr>\n",
              "  </thead>\n",
              "  <tbody>\n",
              "    <tr>\n",
              "      <th>order_id</th>\n",
              "      <td>1898.00</td>\n",
              "      <td>NaN</td>\n",
              "      <td>NaN</td>\n",
              "      <td>NaN</td>\n",
              "      <td>1477495.50</td>\n",
              "      <td>548.05</td>\n",
              "      <td>1476547.00</td>\n",
              "      <td>1477021.25</td>\n",
              "      <td>1477495.50</td>\n",
              "      <td>1477969.75</td>\n",
              "      <td>1478444.00</td>\n",
              "    </tr>\n",
              "    <tr>\n",
              "      <th>customer_id</th>\n",
              "      <td>1898.00</td>\n",
              "      <td>NaN</td>\n",
              "      <td>NaN</td>\n",
              "      <td>NaN</td>\n",
              "      <td>171168.48</td>\n",
              "      <td>113698.14</td>\n",
              "      <td>1311.00</td>\n",
              "      <td>77787.75</td>\n",
              "      <td>128600.00</td>\n",
              "      <td>270525.00</td>\n",
              "      <td>405334.00</td>\n",
              "    </tr>\n",
              "    <tr>\n",
              "      <th>restaurant_name</th>\n",
              "      <td>1898</td>\n",
              "      <td>178</td>\n",
              "      <td>Shake Shack</td>\n",
              "      <td>219</td>\n",
              "      <td>NaN</td>\n",
              "      <td>NaN</td>\n",
              "      <td>NaN</td>\n",
              "      <td>NaN</td>\n",
              "      <td>NaN</td>\n",
              "      <td>NaN</td>\n",
              "      <td>NaN</td>\n",
              "    </tr>\n",
              "    <tr>\n",
              "      <th>cuisine_type</th>\n",
              "      <td>1898</td>\n",
              "      <td>14</td>\n",
              "      <td>American</td>\n",
              "      <td>584</td>\n",
              "      <td>NaN</td>\n",
              "      <td>NaN</td>\n",
              "      <td>NaN</td>\n",
              "      <td>NaN</td>\n",
              "      <td>NaN</td>\n",
              "      <td>NaN</td>\n",
              "      <td>NaN</td>\n",
              "    </tr>\n",
              "    <tr>\n",
              "      <th>cost_of_the_order</th>\n",
              "      <td>1898.00</td>\n",
              "      <td>NaN</td>\n",
              "      <td>NaN</td>\n",
              "      <td>NaN</td>\n",
              "      <td>16.50</td>\n",
              "      <td>7.48</td>\n",
              "      <td>4.47</td>\n",
              "      <td>12.08</td>\n",
              "      <td>14.14</td>\n",
              "      <td>22.30</td>\n",
              "      <td>35.41</td>\n",
              "    </tr>\n",
              "    <tr>\n",
              "      <th>day_of_the_week</th>\n",
              "      <td>1898</td>\n",
              "      <td>2</td>\n",
              "      <td>Weekend</td>\n",
              "      <td>1351</td>\n",
              "      <td>NaN</td>\n",
              "      <td>NaN</td>\n",
              "      <td>NaN</td>\n",
              "      <td>NaN</td>\n",
              "      <td>NaN</td>\n",
              "      <td>NaN</td>\n",
              "      <td>NaN</td>\n",
              "    </tr>\n",
              "    <tr>\n",
              "      <th>rating</th>\n",
              "      <td>1898</td>\n",
              "      <td>4</td>\n",
              "      <td>Not given</td>\n",
              "      <td>736</td>\n",
              "      <td>NaN</td>\n",
              "      <td>NaN</td>\n",
              "      <td>NaN</td>\n",
              "      <td>NaN</td>\n",
              "      <td>NaN</td>\n",
              "      <td>NaN</td>\n",
              "      <td>NaN</td>\n",
              "    </tr>\n",
              "    <tr>\n",
              "      <th>food_preparation_time</th>\n",
              "      <td>1898.00</td>\n",
              "      <td>NaN</td>\n",
              "      <td>NaN</td>\n",
              "      <td>NaN</td>\n",
              "      <td>27.37</td>\n",
              "      <td>4.63</td>\n",
              "      <td>20.00</td>\n",
              "      <td>23.00</td>\n",
              "      <td>27.00</td>\n",
              "      <td>31.00</td>\n",
              "      <td>35.00</td>\n",
              "    </tr>\n",
              "    <tr>\n",
              "      <th>delivery_time</th>\n",
              "      <td>1898.00</td>\n",
              "      <td>NaN</td>\n",
              "      <td>NaN</td>\n",
              "      <td>NaN</td>\n",
              "      <td>24.16</td>\n",
              "      <td>4.97</td>\n",
              "      <td>15.00</td>\n",
              "      <td>20.00</td>\n",
              "      <td>25.00</td>\n",
              "      <td>28.00</td>\n",
              "      <td>33.00</td>\n",
              "    </tr>\n",
              "  </tbody>\n",
              "</table>\n",
              "</div>\n",
              "      <button class=\"colab-df-convert\" onclick=\"convertToInteractive('df-0a374f42-7cb9-4acb-bffd-f24c7b4ce3ed')\"\n",
              "              title=\"Convert this dataframe to an interactive table.\"\n",
              "              style=\"display:none;\">\n",
              "        \n",
              "  <svg xmlns=\"http://www.w3.org/2000/svg\" height=\"24px\"viewBox=\"0 0 24 24\"\n",
              "       width=\"24px\">\n",
              "    <path d=\"M0 0h24v24H0V0z\" fill=\"none\"/>\n",
              "    <path d=\"M18.56 5.44l.94 2.06.94-2.06 2.06-.94-2.06-.94-.94-2.06-.94 2.06-2.06.94zm-11 1L8.5 8.5l.94-2.06 2.06-.94-2.06-.94L8.5 2.5l-.94 2.06-2.06.94zm10 10l.94 2.06.94-2.06 2.06-.94-2.06-.94-.94-2.06-.94 2.06-2.06.94z\"/><path d=\"M17.41 7.96l-1.37-1.37c-.4-.4-.92-.59-1.43-.59-.52 0-1.04.2-1.43.59L10.3 9.45l-7.72 7.72c-.78.78-.78 2.05 0 2.83L4 21.41c.39.39.9.59 1.41.59.51 0 1.02-.2 1.41-.59l7.78-7.78 2.81-2.81c.8-.78.8-2.07 0-2.86zM5.41 20L4 18.59l7.72-7.72 1.47 1.35L5.41 20z\"/>\n",
              "  </svg>\n",
              "      </button>\n",
              "      \n",
              "  <style>\n",
              "    .colab-df-container {\n",
              "      display:flex;\n",
              "      flex-wrap:wrap;\n",
              "      gap: 12px;\n",
              "    }\n",
              "\n",
              "    .colab-df-convert {\n",
              "      background-color: #E8F0FE;\n",
              "      border: none;\n",
              "      border-radius: 50%;\n",
              "      cursor: pointer;\n",
              "      display: none;\n",
              "      fill: #1967D2;\n",
              "      height: 32px;\n",
              "      padding: 0 0 0 0;\n",
              "      width: 32px;\n",
              "    }\n",
              "\n",
              "    .colab-df-convert:hover {\n",
              "      background-color: #E2EBFA;\n",
              "      box-shadow: 0px 1px 2px rgba(60, 64, 67, 0.3), 0px 1px 3px 1px rgba(60, 64, 67, 0.15);\n",
              "      fill: #174EA6;\n",
              "    }\n",
              "\n",
              "    [theme=dark] .colab-df-convert {\n",
              "      background-color: #3B4455;\n",
              "      fill: #D2E3FC;\n",
              "    }\n",
              "\n",
              "    [theme=dark] .colab-df-convert:hover {\n",
              "      background-color: #434B5C;\n",
              "      box-shadow: 0px 1px 3px 1px rgba(0, 0, 0, 0.15);\n",
              "      filter: drop-shadow(0px 1px 2px rgba(0, 0, 0, 0.3));\n",
              "      fill: #FFFFFF;\n",
              "    }\n",
              "  </style>\n",
              "\n",
              "      <script>\n",
              "        const buttonEl =\n",
              "          document.querySelector('#df-0a374f42-7cb9-4acb-bffd-f24c7b4ce3ed button.colab-df-convert');\n",
              "        buttonEl.style.display =\n",
              "          google.colab.kernel.accessAllowed ? 'block' : 'none';\n",
              "\n",
              "        async function convertToInteractive(key) {\n",
              "          const element = document.querySelector('#df-0a374f42-7cb9-4acb-bffd-f24c7b4ce3ed');\n",
              "          const dataTable =\n",
              "            await google.colab.kernel.invokeFunction('convertToInteractive',\n",
              "                                                     [key], {});\n",
              "          if (!dataTable) return;\n",
              "\n",
              "          const docLinkHtml = 'Like what you see? Visit the ' +\n",
              "            '<a target=\"_blank\" href=https://colab.research.google.com/notebooks/data_table.ipynb>data table notebook</a>'\n",
              "            + ' to learn more about interactive tables.';\n",
              "          element.innerHTML = '';\n",
              "          dataTable['output_type'] = 'display_data';\n",
              "          await google.colab.output.renderOutput(dataTable, element);\n",
              "          const docLink = document.createElement('div');\n",
              "          docLink.innerHTML = docLinkHtml;\n",
              "          element.appendChild(docLink);\n",
              "        }\n",
              "      </script>\n",
              "    </div>\n",
              "  </div>\n",
              "  "
            ]
          },
          "metadata": {},
          "execution_count": 10
        }
      ],
      "source": [
        "# describe() : Computes and displays a summary of statistics pertaining to the DataFrame columns\n",
        "df.describe(include = 'all').T"
      ]
    },
    {
      "cell_type": "markdown",
      "metadata": {
        "id": "9YbSOR5wJY_T"
      },
      "source": [
        "#### Observations:\n",
        "\n",
        "\n",
        "* restaurant_name : Most favourite restaurant is Shake Shack (219 orders)\n",
        "* cuisine_type:  Most favourite cuisine is American (584 orders)\n",
        "* day_of_the_week : Weekend got more orders than weekdays\n",
        "\n",
        "* order costs range from about 4 to 35 $ and average order is 16.50 dollar. Difference between the 3rd quartile and the max value of order cost is around 13 dollar. So, there migh be some outliers in the data.\n",
        "\n",
        "* food preparation and delivery time seem to be having normal distribution. Average time of food preparation 27 minutes and average delivery time is around 24 minutes.\n",
        "\n",
        "\n",
        "**For Food preparation time ,**\n",
        "\n",
        "                - minimum time taken is 20.00 minutes\n",
        "                - average time is 27.37 minutes\n",
        "                - maximum time taken is 35.00 minutes \n",
        "\n",
        "\n",
        "\n",
        "\n",
        "\n"
      ]
    },
    {
      "cell_type": "markdown",
      "metadata": {
        "id": "cw3l58z_JY_T"
      },
      "source": [
        "### **Question 5:** How many orders are not rated? [1 mark]"
      ]
    },
    {
      "cell_type": "code",
      "execution_count": null,
      "metadata": {
        "id": "hEzDUL9wgksi",
        "scrolled": true,
        "colab": {
          "base_uri": "https://localhost:8080/"
        },
        "outputId": "986fd587-fc05-4a05-ebe4-ab452a89c33c"
      },
      "outputs": [
        {
          "output_type": "stream",
          "name": "stdout",
          "text": [
            "Number of orders not rated : 736\n"
          ]
        }
      ],
      "source": [
        "# First we are checking distinct values and their unique counts for column rating\n",
        "#df['rating'].value_counts()\n",
        "\n",
        "#Then we are filtering the rating column for value 'Not given' and counting the numbers\n",
        "not_rated_count = df['rating'].value_counts() ['Not given']\n",
        "print( \"Number of orders not rated :\", not_rated_count)"
      ]
    },
    {
      "cell_type": "markdown",
      "metadata": {
        "id": "5E0O_oviJY_T"
      },
      "source": [
        "#### Observations:\n",
        "There are 736 orders which are not rated.\n",
        "\n",
        "df['rating'].value_counts() ==> shows that the values for column rating are - Not given, 5,4 &3. So, we need to count 'Not given' to get the orders which are not rated.\n",
        "Then, we filter the counts only for value 'Not given;\n",
        "\n"
      ]
    },
    {
      "cell_type": "markdown",
      "metadata": {
        "id": "7msIfXE-JY_T"
      },
      "source": [
        "### Exploratory Data Analysis (EDA)"
      ]
    },
    {
      "cell_type": "markdown",
      "source": [
        "###Sanity Check :"
      ],
      "metadata": {
        "id": "PNiy7uHbFwl2"
      }
    },
    {
      "cell_type": "markdown",
      "source": [
        "###First, let's find out if the data for Food Hub has any abnormality.\n",
        "\n",
        "In order to clean up the data, we should check if there is any  order with\n",
        "\n",
        "*   Cost below 1 dollar\n",
        "*   Food preparation time below 5 minutes\n",
        "*   Delivery time below 5 minutes\n"
      ],
      "metadata": {
        "id": "VjoBMtpr1TwI"
      }
    },
    {
      "cell_type": "code",
      "source": [
        "print(\"Number of order with cost below 1$ :\", df[df['cost_of_the_order']<1].shape[0])\n",
        "print(\"Number of order with food_preparation_time below 5 mins :\",  df[df['food_preparation_time']<5].shape[0])\n",
        "print(\"Number of order with delivery_time below 5 mins :\", df[df['delivery_time']<5].shape[0])\n"
      ],
      "metadata": {
        "colab": {
          "base_uri": "https://localhost:8080/"
        },
        "id": "2Y_VeJRX011_",
        "outputId": "b26ce6f3-be37-485f-b4b9-877755decbfc"
      },
      "execution_count": null,
      "outputs": [
        {
          "output_type": "stream",
          "name": "stdout",
          "text": [
            "Number of order with cost below 1$ : 0\n",
            "Number of order with food_preparation_time below 5 mins : 0\n",
            "Number of order with delivery_time below 5 mins : 0\n"
          ]
        }
      ]
    },
    {
      "cell_type": "markdown",
      "source": [
        "Checking if there is any duplicate data"
      ],
      "metadata": {
        "id": "4PRArzXxGrAy"
      }
    },
    {
      "cell_type": "code",
      "source": [
        "df.duplicated().sum()"
      ],
      "metadata": {
        "colab": {
          "base_uri": "https://localhost:8080/"
        },
        "id": "iXU6fUwrGpBo",
        "outputId": "78a0ff0b-44e1-4b6c-9fe1-825e456b45aa"
      },
      "execution_count": null,
      "outputs": [
        {
          "output_type": "execute_result",
          "data": {
            "text/plain": [
              "0"
            ]
          },
          "metadata": {},
          "execution_count": 97
        }
      ]
    },
    {
      "cell_type": "markdown",
      "source": [
        "###Observations:\n",
        "* There is no duplicate data in the dataset\n",
        "* There is no value which is abnormally low or high in columns - cost_of_the_order, food_preparation_time, delivery_time"
      ],
      "metadata": {
        "id": "vTPSD9nOG7jo"
      }
    },
    {
      "cell_type": "markdown",
      "metadata": {
        "id": "-2xfI28YJY_T"
      },
      "source": [
        "### Univariate Analysis"
      ]
    },
    {
      "cell_type": "markdown",
      "metadata": {
        "id": "0RHZnugBJY_U"
      },
      "source": [
        "### **Question 6:** Explore all the variables and provide observations on their distributions. (Generally, histograms, boxplots, countplots, etc. are used for univariate exploration.) [9 marks]"
      ]
    },
    {
      "cell_type": "markdown",
      "source": [
        "***Categorical Variables Analysis***"
      ],
      "metadata": {
        "id": "j4JTEHGzF0Le"
      }
    },
    {
      "cell_type": "markdown",
      "source": [
        "Understanding **customer_id**"
      ],
      "metadata": {
        "id": "ouPUzcvYYPLr"
      }
    },
    {
      "cell_type": "code",
      "source": [
        "df['customer_id'].nunique()"
      ],
      "metadata": {
        "colab": {
          "base_uri": "https://localhost:8080/"
        },
        "id": "nMIxzoT4YV8p",
        "outputId": "c936b05d-afee-496c-8cd4-5acac1ef4b90"
      },
      "execution_count": null,
      "outputs": [
        {
          "output_type": "execute_result",
          "data": {
            "text/plain": [
              "1200"
            ]
          },
          "metadata": {},
          "execution_count": 4
        }
      ]
    },
    {
      "cell_type": "code",
      "source": [
        "df['customer_id'].value_counts().unique()"
      ],
      "metadata": {
        "colab": {
          "base_uri": "https://localhost:8080/"
        },
        "id": "V-hrTQxrYZK3",
        "outputId": "b62df190-3006-485f-c669-ec210508bcda"
      },
      "execution_count": null,
      "outputs": [
        {
          "output_type": "execute_result",
          "data": {
            "text/plain": [
              "array([13, 10,  9,  8,  7,  6,  5,  4,  3,  2,  1])"
            ]
          },
          "metadata": {},
          "execution_count": 5
        }
      ]
    },
    {
      "cell_type": "code",
      "source": [
        "#counting unique customer ids in the dataset\n",
        "custid_count = df['customer_id'].value_counts()\n",
        "#counting order numbers for unique customer ids in the dataset\n",
        "cust_ordr_count = pd.DataFrame(custid_count).value_counts()\n"
      ],
      "metadata": {
        "colab": {
          "base_uri": "https://localhost:8080/"
        },
        "id": "fd46tzWsZvjY",
        "outputId": "662d0160-1bb9-44bc-c0ca-db1754b75c2b"
      },
      "execution_count": null,
      "outputs": [
        {
          "output_type": "execute_result",
          "data": {
            "text/plain": [
              "customer_id\n",
              "1              784\n",
              "2              267\n",
              "3               83\n",
              "4               33\n",
              "5               19\n",
              "6                6\n",
              "7                4\n",
              "8                1\n",
              "9                1\n",
              "10               1\n",
              "13               1\n",
              "dtype: int64"
            ]
          },
          "metadata": {},
          "execution_count": 8
        }
      ]
    },
    {
      "cell_type": "markdown",
      "source": [
        "##Observations \n",
        "  - There are total 1200 customers\n",
        "  - Lowest number of order is 1 and highest is 13 times by these customers\n",
        "  - Majority of customers (784) had made only 1 order and 267 customers had placed only 267 orders.\n",
        "  - only few customers had made frequent orders\n"
      ],
      "metadata": {
        "id": "GwbzwOnHYeH0"
      }
    },
    {
      "cell_type": "markdown",
      "source": [
        "Let's check categorical/object type variables."
      ],
      "metadata": {
        "id": "hLsUaQDcuDmq"
      }
    },
    {
      "cell_type": "markdown",
      "source": [
        "Understanding **restaurant_name**"
      ],
      "metadata": {
        "id": "yhAQQM6J2rI7"
      }
    },
    {
      "cell_type": "code",
      "source": [
        "df['restaurant_name'].nunique()"
      ],
      "metadata": {
        "colab": {
          "base_uri": "https://localhost:8080/"
        },
        "id": "MOtiZb3h224A",
        "outputId": "bb85881b-034f-4476-a476-f7b7b054d629"
      },
      "execution_count": null,
      "outputs": [
        {
          "output_type": "execute_result",
          "data": {
            "text/plain": [
              "178"
            ]
          },
          "metadata": {},
          "execution_count": 79
        }
      ]
    },
    {
      "cell_type": "markdown",
      "source": [
        "* We observe that there are 178 unique restaurants in the dataset for Food Hub"
      ],
      "metadata": {
        "id": "vF1XPb_KuNPg"
      }
    },
    {
      "cell_type": "markdown",
      "source": [
        "Understanding **cuisine_type**"
      ],
      "metadata": {
        "id": "DyHzdDjE3oQu"
      }
    },
    {
      "cell_type": "code",
      "source": [
        "df['cuisine_type'].nunique()"
      ],
      "metadata": {
        "colab": {
          "base_uri": "https://localhost:8080/"
        },
        "id": "1ZOLXaKu3z_B",
        "outputId": "5db02c01-2fd4-4ff3-ab5d-1dc8f34822ef"
      },
      "execution_count": null,
      "outputs": [
        {
          "output_type": "execute_result",
          "data": {
            "text/plain": [
              "14"
            ]
          },
          "metadata": {},
          "execution_count": 80
        }
      ]
    },
    {
      "cell_type": "markdown",
      "source": [
        "* We observe that there are 14 types of cuisines in dataset for Food Hub"
      ],
      "metadata": {
        "id": "CSzlJ7Hg5NHh"
      }
    },
    {
      "cell_type": "code",
      "source": [
        "plt.figure(figsize = (15,5))\n",
        "## Countplot for cuisine type\n",
        "sns.countplot(data = df, x = 'cuisine_type') ;\n"
      ],
      "metadata": {
        "colab": {
          "base_uri": "https://localhost:8080/",
          "height": 335
        },
        "id": "OSGSV2JV4iwB",
        "outputId": "6dc744c7-a0db-4458-c969-066cf6af3812"
      },
      "execution_count": null,
      "outputs": [
        {
          "output_type": "display_data",
          "data": {
            "text/plain": [
              "<Figure size 1080x360 with 1 Axes>"
            ],
            "image/png": "[encoded data removed]"
          },
          "metadata": {
            "needs_background": "light"
          }
        }
      ]
    },
    {
      "cell_type": "markdown",
      "source": [
        "Observations:\n",
        "\n",
        "\n",
        "*   Among 14 types of cuisine, American is most preffered one\n",
        "*   Second popular cuisine is Japanese, followed by Italian\n",
        "\n"
      ],
      "metadata": {
        "id": "0Q8UJxMwUxi0"
      }
    },
    {
      "cell_type": "markdown",
      "source": [
        "Understanding **day_of_the_week**"
      ],
      "metadata": {
        "id": "SeIalND35IWb"
      }
    },
    {
      "cell_type": "code",
      "source": [
        "df['day_of_the_week'].unique()"
      ],
      "metadata": {
        "colab": {
          "base_uri": "https://localhost:8080/"
        },
        "id": "j5XHQbwlCcvz",
        "outputId": "3ddc87ad-eaa6-4e0e-87ef-c5f29face218"
      },
      "execution_count": null,
      "outputs": [
        {
          "output_type": "execute_result",
          "data": {
            "text/plain": [
              "array(['Weekend', 'Weekday'], dtype=object)"
            ]
          },
          "metadata": {},
          "execution_count": 13
        }
      ]
    },
    {
      "cell_type": "code",
      "source": [
        "## Countplot for cuisine type\n",
        "sns.countplot(data = df, x = 'day_of_the_week') ;\n"
      ],
      "metadata": {
        "colab": {
          "base_uri": "https://localhost:8080/",
          "height": 281
        },
        "id": "RSV2ZU4F-qpd",
        "outputId": "a3689046-ccec-4d3b-e424-ee70410f5989"
      },
      "execution_count": null,
      "outputs": [
        {
          "output_type": "display_data",
          "data": {
            "text/plain": [
              "<Figure size 432x288 with 1 Axes>"
            ],
            "image/png": "[encoded data removed]"
          },
          "metadata": {
            "needs_background": "light"
          }
        }
      ]
    },
    {
      "cell_type": "markdown",
      "source": [
        "Observations:\n",
        " *  Days of the week has two categories - Weekend and weekdays\n",
        " *  We can see that order are qiute high on weekend than weekdays "
      ],
      "metadata": {
        "id": "0eK2YmI-GfUL"
      }
    },
    {
      "cell_type": "markdown",
      "source": [
        "Understanding **rating**"
      ],
      "metadata": {
        "id": "qHIHsZdn_NOg"
      }
    },
    {
      "cell_type": "code",
      "source": [
        "df['rating'].unique()"
      ],
      "metadata": {
        "colab": {
          "base_uri": "https://localhost:8080/"
        },
        "id": "6D84ohbJCqZ5",
        "outputId": "b9c968c2-d2b6-4852-a916-2e6bb7a2b03a"
      },
      "execution_count": null,
      "outputs": [
        {
          "output_type": "execute_result",
          "data": {
            "text/plain": [
              "array(['Not given', '5', '3', '4'], dtype=object)"
            ]
          },
          "metadata": {},
          "execution_count": 14
        }
      ]
    },
    {
      "cell_type": "code",
      "source": [
        "#plt.figure(figsize = (15,5))\n",
        "## Countplot for rating\n",
        "sns.countplot(data = df, x = 'rating') ;\n"
      ],
      "metadata": {
        "colab": {
          "base_uri": "https://localhost:8080/",
          "height": 279
        },
        "id": "NlKVVNq2_c9d",
        "outputId": "105fc49b-6593-4ebd-d703-89194b33bc35"
      },
      "execution_count": null,
      "outputs": [
        {
          "output_type": "display_data",
          "data": {
            "text/plain": [
              "<Figure size 432x288 with 1 Axes>"
            ],
            "image/png": "[encoded data removed]"
          },
          "metadata": {
            "needs_background": "light"
          }
        }
      ]
    },
    {
      "cell_type": "markdown",
      "source": [
        "Observation \n",
        "* we observe that for most of the orders rating is 'Not given'\n",
        "* Other than 'Not given', 5 is the most common rating.\n",
        "* there is no order given rating 3"
      ],
      "metadata": {
        "id": "CiwySdbfvxnM"
      }
    },
    {
      "cell_type": "markdown",
      "source": [
        "***Numerical Variables Analysis***"
      ],
      "metadata": {
        "id": "4UM07cUVHdgU"
      }
    },
    {
      "cell_type": "markdown",
      "source": [
        "Understanding **cost_of_the_order**"
      ],
      "metadata": {
        "id": "zfrXTOog9iRy"
      }
    },
    {
      "cell_type": "code",
      "source": [
        "df['cost_of_the_order'].nunique()"
      ],
      "metadata": {
        "colab": {
          "base_uri": "https://localhost:8080/"
        },
        "id": "s2wXzU0aASWI",
        "outputId": "21888aea-8925-4851-e02b-1c84a6fd8de4"
      },
      "execution_count": null,
      "outputs": [
        {
          "output_type": "execute_result",
          "data": {
            "text/plain": [
              "312"
            ]
          },
          "metadata": {},
          "execution_count": 39
        }
      ]
    },
    {
      "cell_type": "code",
      "source": [
        "## Histogram for the cost of order\n",
        "sns.histplot(data=df,x='cost_of_the_order', kde = True)\n",
        "plt.show()\n",
        "## Boxplot for the cost of order\n",
        "sns.boxplot(data=df,x='cost_of_the_order') \n",
        "plt.show() "
      ],
      "metadata": {
        "colab": {
          "base_uri": "https://localhost:8080/",
          "height": 543
        },
        "id": "gmEbmUKa9gpG",
        "outputId": "8ac9dc2f-1b8e-48e9-80f7-7e7d771051b0"
      },
      "execution_count": null,
      "outputs": [
        {
          "output_type": "display_data",
          "data": {
            "text/plain": [
              "<Figure size 432x288 with 1 Axes>"
            ],
            "image/png": "[encoded data removed]"
          },
          "metadata": {
            "needs_background": "light"
          }
        },
        {
          "output_type": "display_data",
          "data": {
            "text/plain": [
              "<Figure size 432x288 with 1 Axes>"
            ],
            "image/png": "[encoded data removed]"
          },
          "metadata": {
            "needs_background": "light"
          }
        }
      ]
    },
    {
      "cell_type": "markdown",
      "source": [
        "Observations:\n",
        "* Data for cost_of_the_order is right skewed.Histogram has long right tail and boxplot has long right whishker. \n",
        "* 50% of the orders have costs below 14 dollars\n",
        "* There is no outliers"
      ],
      "metadata": {
        "id": "4xBETDIixnWX"
      }
    },
    {
      "cell_type": "markdown",
      "source": [
        "Understanding **food_preparation_time**"
      ],
      "metadata": {
        "id": "JD7BcaqHCywV"
      }
    },
    {
      "cell_type": "code",
      "source": [
        "## Histogram for the food_preparation_time\n",
        "sns.histplot(data=df,x='food_preparation_time', kde = True) \n",
        "plt.show()\n",
        "## Boxplot for the cost of order\n",
        "sns.boxplot(data=df,x='food_preparation_time' ) \n",
        "plt.show() "
      ],
      "metadata": {
        "colab": {
          "base_uri": "https://localhost:8080/",
          "height": 543
        },
        "id": "f0-7xrV4_tu8",
        "outputId": "d632d948-6a2c-4534-fd0d-d3c4a67c43df"
      },
      "execution_count": null,
      "outputs": [
        {
          "output_type": "display_data",
          "data": {
            "text/plain": [
              "<Figure size 432x288 with 1 Axes>"
            ],
            "image/png": "[encoded data removed]"
          },
          "metadata": {
            "needs_background": "light"
          }
        },
        {
          "output_type": "display_data",
          "data": {
            "text/plain": [
              "<Figure size 432x288 with 1 Axes>"
            ],
            "image/png": "[encoded data removed]"
          },
          "metadata": {
            "needs_background": "light"
          }
        }
      ]
    },
    {
      "cell_type": "markdown",
      "source": [
        "Observations:\n",
        "* Avg food prepration time is 27 minutes.Minimum time is 20 minutes and maximum is 35 minutes\n",
        "* Food preparation time distribution is close to normal\n",
        "* there is no outliers"
      ],
      "metadata": {
        "id": "Ypr-AzrLyexq"
      }
    },
    {
      "cell_type": "markdown",
      "source": [
        "Understanding **delivery_time**"
      ],
      "metadata": {
        "id": "LoCrFxSGC41Y"
      }
    },
    {
      "cell_type": "code",
      "source": [
        "## Histogram for the food_preparation_time\n",
        "sns.histplot(data=df,x='delivery_time', kde = True) \n",
        "plt.show()\n",
        "## Boxplot for the cost of order\n",
        "sns.boxplot(data=df,x='delivery_time' ) \n",
        "plt.show()"
      ],
      "metadata": {
        "colab": {
          "base_uri": "https://localhost:8080/",
          "height": 543
        },
        "id": "2lv3Vjoh42B0",
        "outputId": "9e70351c-6a2b-4c75-9d17-12e946e89d52"
      },
      "execution_count": null,
      "outputs": [
        {
          "output_type": "display_data",
          "data": {
            "text/plain": [
              "<Figure size 432x288 with 1 Axes>"
            ],
            "image/png": "[encoded data removed]"
          },
          "metadata": {
            "needs_background": "light"
          }
        },
        {
          "output_type": "display_data",
          "data": {
            "text/plain": [
              "<Figure size 432x288 with 1 Axes>"
            ],
            "image/png": "[encoded data removed]"
          },
          "metadata": {
            "needs_background": "light"
          }
        }
      ]
    },
    {
      "cell_type": "markdown",
      "source": [
        "Observation : \n",
        " * Distribution is slightly left skewed\n",
        " * There is no outliers\n",
        " * 50% of the delivery time is under 25 minutes. Minimum delivery time is 15 minutes, max is 33 minutes with avg 25 minutes\n"
      ],
      "metadata": {
        "id": "6O97X2uCwg1D"
      }
    },
    {
      "cell_type": "markdown",
      "metadata": {
        "id": "K9CqA5H_JY_U"
      },
      "source": [
        "### **Question 7**: Which are the top 5 restaurants in terms of the number of orders received? [1 mark]"
      ]
    },
    {
      "cell_type": "code",
      "execution_count": null,
      "metadata": {
        "id": "PaJZ3wlOJY_U",
        "colab": {
          "base_uri": "https://localhost:8080/"
        },
        "outputId": "3609b45e-e23a-43be-c1c3-8f4d41ab936a"
      },
      "outputs": [
        {
          "output_type": "execute_result",
          "data": {
            "text/plain": [
              "restaurant_name\n",
              "Shake Shack                  219\n",
              "The Meatball Shop            132\n",
              "Blue Ribbon Sushi            119\n",
              "Blue Ribbon Fried Chicken     96\n",
              "Parm                          68\n",
              "Name: order_id, dtype: int64"
            ]
          },
          "metadata": {},
          "execution_count": 47
        }
      ],
      "source": [
        "# Top 5 restaurants with highest number of orders\n",
        "# counting number of orders groupby restaurants and sort the values in descending orders.\n",
        "df.groupby(['restaurant_name'])['order_id'].count().sort_values(ascending=False).head()"
      ]
    },
    {
      "cell_type": "markdown",
      "metadata": {
        "id": "tnjhWgUfJY_U"
      },
      "source": [
        "#### Observations:\n",
        "first counting the total number of orders griupby restaurants by counting order_ids.  Then sorting the values in descending orders and getting top 5 values by using method head().\n",
        "\n",
        "Top 5 restaurants in terms of the number of orders are as below :\n",
        "\n",
        "1. Shake Shack   \n",
        "2. The Meatball Shop  \n",
        "3. Blue Ribbon Sushi        \n",
        "4. Blue Ribbon Fried Chicken  \n",
        "5. Parm           \n"
      ]
    },
    {
      "cell_type": "markdown",
      "metadata": {
        "id": "gWPMqGq0JY_U"
      },
      "source": [
        "### **Question 8**: Which is the most popular cuisine on weekends? [1 mark]"
      ]
    },
    {
      "cell_type": "code",
      "execution_count": null,
      "metadata": {
        "id": "c-Xnus3VJY_U",
        "colab": {
          "base_uri": "https://localhost:8080/"
        },
        "outputId": "2dd99e60-8946-4948-c3ed-6b5ce7eb8df6"
      },
      "outputs": [
        {
          "output_type": "stream",
          "name": "stdout",
          "text": [
            "The most popular cuisine on weekends is : 415\n"
          ]
        }
      ],
      "source": [
        "# First filtering the data set for weekend, then counting the unique values for each cuisine_type\n",
        "df_cuisine = df.loc[df['day_of_the_week']=='Weekend','cuisine_type'].value_counts()\n",
        "# Using max() function gets the highest value\n",
        "print( \"The most popular cuisine on weekends is :\",df_cuisine.max())\n"
      ]
    },
    {
      "cell_type": "markdown",
      "metadata": {
        "id": "bpQ270TUJY_U"
      },
      "source": [
        "#### Observations:\n",
        "Most popular cuisine on weekend is American (total 415 orders)\n"
      ]
    },
    {
      "cell_type": "markdown",
      "metadata": {
        "id": "88xgTqkxJY_U"
      },
      "source": [
        "### **Question 9**: What percentage of the orders cost more than 20 dollars? [2 marks]"
      ]
    },
    {
      "cell_type": "code",
      "execution_count": null,
      "metadata": {
        "id": "OTpHyTdzJY_U",
        "colab": {
          "base_uri": "https://localhost:8080/"
        },
        "outputId": "840092ad-f539-45d0-e745-84aaf4a61a3c"
      },
      "outputs": [
        {
          "output_type": "stream",
          "name": "stdout",
          "text": [
            "The number of total orders that cost above 20 dollars is: 555\n",
            "The number of total orders is: 1898\n",
            "Percentage of orders above 20 dollars: 29.24 %\n"
          ]
        }
      ],
      "source": [
        "# Calculating number of orders which cost more than 20 dollars\n",
        "count_above_cost20  = df[df['cost_of_the_order']>20].shape[0]\n",
        "\n",
        "#Getting total number of orders\n",
        "count_all = df.shape[0]\n",
        "\n",
        "print('The number of total orders that cost above 20 dollars is:', count_above_cost20)\n",
        "print('The number of total orders is:', count_all )\n",
        "\n",
        "# Calculating percentage of orders costing more than 20$ in the dataset\n",
        "perc_above_cost20 = (count_above_cost20/count_all)*100\n",
        "\n",
        "print(\"Percentage of orders above 20 dollars:\", round(perc_above_cost20, 2), '%')\n"
      ]
    },
    {
      "cell_type": "markdown",
      "metadata": {
        "id": "77KNAC5zJY_U"
      },
      "source": [
        "#### Observations:\n",
        "Total orders that cost above 20 dollars is 555 which is 29.24% of total number orders"
      ]
    },
    {
      "cell_type": "markdown",
      "metadata": {
        "id": "HFyHn7hsJY_V"
      },
      "source": [
        "### **Question 10**: What is the mean order delivery time? [1 mark]"
      ]
    },
    {
      "cell_type": "code",
      "execution_count": null,
      "metadata": {
        "id": "cyFL13hNJY_V",
        "colab": {
          "base_uri": "https://localhost:8080/"
        },
        "outputId": "e6889d9d-f035-4523-a872-6aa08dcaac65"
      },
      "outputs": [
        {
          "output_type": "stream",
          "name": "stdout",
          "text": [
            "The mean deilvery time is : 24.16 minutes\n"
          ]
        }
      ],
      "source": [
        "# Checking mean for delivery_time\n",
        "del_time_mean = df['delivery_time'].mean()\n",
        "print('The mean deilvery time is :', round(del_time_mean, 2), 'minutes')"
      ]
    },
    {
      "cell_type": "markdown",
      "metadata": {
        "id": "F35SRV-HJY_V"
      },
      "source": [
        "#### Observations:\n",
        "Mean order delivery time is : 24.16 minutes. mean() functions returns avarage value accross a specified axis.\n"
      ]
    },
    {
      "cell_type": "markdown",
      "metadata": {
        "id": "48IjaOuDJY_V"
      },
      "source": [
        "### **Question 11:** The company has decided to give 20% discount vouchers to the top 5 most frequent customers. Find the IDs of these customers and the number of orders they placed. [1 mark]"
      ]
    },
    {
      "cell_type": "code",
      "execution_count": null,
      "metadata": {
        "id": "Hz8-DE4Zge0j",
        "colab": {
          "base_uri": "https://localhost:8080/"
        },
        "outputId": "27bb273e-c364-43d9-daf5-b57ac6aa7c10"
      },
      "outputs": [
        {
          "output_type": "stream",
          "name": "stdout",
          "text": [
            "Top 5 most frequent customers\n",
            "------------------------------\n",
            "   customer_id  order_id\n",
            "0        52832        13\n",
            "1        47440        10\n",
            "2        83287         9\n",
            "3       250494         8\n",
            "4        65009         7\n"
          ]
        }
      ],
      "source": [
        "# Counting orders group by customer_id\n",
        "df1 = df.groupby(['customer_id'])[\"order_id\"].count()\n",
        "\n",
        "#Sorting number of orders for a customer in descending order and getting top 5 result\n",
        "df2 = df1.sort_values(ascending=False).reset_index().head()\n",
        "\n",
        "#printing top 5 results\n",
        "print('Top 5 most frequent customers')\n",
        "print('--'*15)\n",
        "print(df2)\n"
      ]
    },
    {
      "cell_type": "markdown",
      "metadata": {
        "id": "9tWVwfX6JY_V"
      },
      "source": [
        "#### Observations:\n",
        "* First we are groupby the dataset by customer_id and counting the number of orders\n",
        "* Sorting the result in desecending order by using sort()\n",
        "* head() function is showing top 5 results.\n",
        "\n",
        "As per the analysis given above following customers are eligible to get 20% discount voucher - \n",
        "52832   ,\n",
        "47440,\n",
        "83287,\n",
        "250494 ,\n",
        "65009\n"
      ]
    },
    {
      "cell_type": "markdown",
      "metadata": {
        "id": "AfIc2jPaJY_V"
      },
      "source": [
        "### Multivariate Analysis"
      ]
    },
    {
      "cell_type": "markdown",
      "metadata": {
        "id": "iqiS0RT_JY_V"
      },
      "source": [
        "### **Question 12**: Perform a multivariate analysis to explore relationships between the important variables in the dataset. (It is a good idea to explore relations between numerical variables as well as relations between numerical and categorical variables) [10 marks]\n"
      ]
    },
    {
      "cell_type": "markdown",
      "source": [
        "Analysis of relationship between cost of the order and cuisine type"
      ],
      "metadata": {
        "id": "OiuuMFHPtfLp"
      }
    },
    {
      "cell_type": "code",
      "execution_count": null,
      "metadata": {
        "id": "3qt4MCNTJY_V",
        "colab": {
          "base_uri": "https://localhost:8080/",
          "height": 562
        },
        "outputId": "963c5501-349d-4398-8c61-65b66e81ef25"
      },
      "outputs": [
        {
          "output_type": "display_data",
          "data": {
            "text/plain": [
              "<Figure size 1080x576 with 1 Axes>"
            ],
            "image/png": "[encoded data removed]"
          },
          "metadata": {
            "needs_background": "light"
          }
        }
      ],
      "source": [
        "# Analysis of relationship between cost of the order and cuisine type\n",
        "plt.figure(figsize=(15,8))\n",
        "sns.boxplot(x = \"cuisine_type\", y = \"cost_of_the_order\", data = df)\n",
        "plt.xticks(rotation = 90)\n",
        "plt.show()\n"
      ]
    },
    {
      "cell_type": "markdown",
      "source": [
        "##Observations:\n",
        "* It can be observed that almost all the cuisines are under 35$.\n",
        "* Korean, Mediterrarean and Vietnamese have few outliers\n",
        "* French has the highest value of average cost of 20 dollar"
      ],
      "metadata": {
        "id": "svxQgBnwevgD"
      }
    },
    {
      "cell_type": "markdown",
      "source": [
        "Analysis of relationship between restaurant & cost_of_the_order\n",
        "\n",
        "\n"
      ],
      "metadata": {
        "id": "BTtokkZuvA6H"
      }
    },
    {
      "cell_type": "code",
      "source": [
        "plt.figure(figsize=(15,8))\n",
        "sns.boxplot(x = \"cuisine_type\", y = \"food_preparation_time\", data = df)\n",
        "plt.xticks(rotation = 90)\n",
        "plt.show()"
      ],
      "metadata": {
        "colab": {
          "base_uri": "https://localhost:8080/",
          "height": 562
        },
        "id": "oQaZFLYqvL4b",
        "outputId": "d765d80e-aaaf-4e12-afbe-5ff046eb49ec"
      },
      "execution_count": null,
      "outputs": [
        {
          "output_type": "display_data",
          "data": {
            "text/plain": [
              "<Figure size 1080x576 with 1 Axes>"
            ],
            "image/png": "[encoded data removed]"
          },
          "metadata": {
            "needs_background": "light"
          }
        }
      ]
    },
    {
      "cell_type": "markdown",
      "source": [
        "##Observations:\n",
        "* It can be observed that orders for all cuisines are prepared under 33 minutes\n",
        "* Vietnamese has a outliers\n",
        "* Thai has the highest value of average preparation time"
      ],
      "metadata": {
        "id": "UGclW88CgiQR"
      }
    },
    {
      "cell_type": "markdown",
      "source": [
        "Analysis of relationship between day & delivery time"
      ],
      "metadata": {
        "id": "rfnwHlh6vf6L"
      }
    },
    {
      "cell_type": "code",
      "source": [
        "plt.figure(figsize = (25,7))\n",
        "sns.countplot(data = df, x = 'cuisine_type', hue = 'rating');"
      ],
      "metadata": {
        "colab": {
          "base_uri": "https://localhost:8080/",
          "height": 443
        },
        "id": "Qc3K5Y0egSuD",
        "outputId": "f960a273-b33d-427f-b525-933dd585e21e"
      },
      "execution_count": null,
      "outputs": [
        {
          "output_type": "display_data",
          "data": {
            "text/plain": [
              "<Figure size 1800x504 with 1 Axes>"
            ],
            "image/png": "[encoded data removed]"
          },
          "metadata": {
            "needs_background": "light"
          }
        }
      ]
    },
    {
      "cell_type": "markdown",
      "source": [
        "Observations \n",
        " - American, Japanese, Italian, and Chinese are the top 4 highly rated."
      ],
      "metadata": {
        "id": "YPHql0ZDgtFT"
      }
    },
    {
      "cell_type": "code",
      "source": [
        "sns.barplot(x = \"day_of_the_week\", y = \"delivery_time\", data = df)\n",
        "plt.show()"
      ],
      "metadata": {
        "colab": {
          "base_uri": "https://localhost:8080/",
          "height": 284
        },
        "id": "tlEf8619vqS3",
        "outputId": "427a5c8a-ad33-4a9c-dec1-557081ac376b"
      },
      "execution_count": null,
      "outputs": [
        {
          "output_type": "display_data",
          "data": {
            "text/plain": [
              "<Figure size 432x288 with 1 Axes>"
            ],
            "image/png": "[encoded data removed]"
          },
          "metadata": {
            "needs_background": "light"
          }
        }
      ]
    },
    {
      "cell_type": "markdown",
      "source": [
        "We observe that delivery time is higher on weekdays than weekend"
      ],
      "metadata": {
        "id": "5CMAxtaWM3gA"
      }
    },
    {
      "cell_type": "markdown",
      "source": [
        "Analysis of relationship between day & food preparation time"
      ],
      "metadata": {
        "id": "JMHSr-CvweQB"
      }
    },
    {
      "cell_type": "code",
      "source": [
        "sns.barplot(x = \"day_of_the_week\", y = \"food_preparation_time\", data = df)\n",
        "plt.show()"
      ],
      "metadata": {
        "colab": {
          "base_uri": "https://localhost:8080/",
          "height": 280
        },
        "id": "ik4eO5O_wrfV",
        "outputId": "0da0b877-33f8-4248-9ea4-37d1b54a93fe"
      },
      "execution_count": null,
      "outputs": [
        {
          "output_type": "display_data",
          "data": {
            "text/plain": [
              "<Figure size 432x288 with 1 Axes>"
            ],
            "image/png": "[encoded data removed]"
          },
          "metadata": {
            "needs_background": "light"
          }
        }
      ]
    },
    {
      "cell_type": "markdown",
      "source": [
        "There is no difference in food preparation time on weekdays and weekend."
      ],
      "metadata": {
        "id": "bGFa9vmgNA9s"
      }
    },
    {
      "cell_type": "code",
      "source": [
        "plt.figure(figsize = (20,7))\n",
        "sns.histplot(data = df, x = 'cost_of_the_order', hue = 'day_of_the_week', kde = True)"
      ],
      "metadata": {
        "colab": {
          "base_uri": "https://localhost:8080/",
          "height": 461
        },
        "id": "Xyw-0LJ8hGF8",
        "outputId": "fef388bb-034a-4e4f-fb1f-f13fc79390de"
      },
      "execution_count": null,
      "outputs": [
        {
          "output_type": "execute_result",
          "data": {
            "text/plain": [
              "<matplotlib.axes._subplots.AxesSubplot at 0x7f86dbac6550>"
            ]
          },
          "metadata": {},
          "execution_count": 26
        },
        {
          "output_type": "display_data",
          "data": {
            "text/plain": [
              "<Figure size 1440x504 with 1 Axes>"
            ],
            "image/png": "[encoded data removed]"
          },
          "metadata": {
            "needs_background": "light"
          }
        }
      ]
    },
    {
      "cell_type": "markdown",
      "source": [
        "More orders are being placed on weekend over weekdays for all cost ranges"
      ],
      "metadata": {
        "id": "KvEGa1qDhgH9"
      }
    },
    {
      "cell_type": "code",
      "source": [
        "plt.figure(figsize=(15,8)) \n",
        "sns.pointplot(x = 'rating', y = 'delivery_time', data = df)\n",
        "plt.xticks(rotation=90);"
      ],
      "metadata": {
        "colab": {
          "base_uri": "https://localhost:8080/",
          "height": 535
        },
        "id": "zVqyzP8cT_Zw",
        "outputId": "f4fd2d01-5b48-4bc5-d75f-60437aea4a0a"
      },
      "execution_count": null,
      "outputs": [
        {
          "output_type": "display_data",
          "data": {
            "text/plain": [
              "<Figure size 1080x576 with 1 Axes>"
            ],
            "image/png": "[encoded data removed]"
          },
          "metadata": {
            "needs_background": "light"
          }
        }
      ]
    },
    {
      "cell_type": "markdown",
      "source": [
        "Here we observe that delivery time is more for rating 3 whereas user gave rating 4 for less delivery time"
      ],
      "metadata": {
        "id": "NuDP3nFNNTRA"
      }
    },
    {
      "cell_type": "code",
      "source": [
        "plt.figure(figsize=(15,8)) \n",
        "sns.pointplot(x = 'rating', y = 'food_preparation_time', data = df)\n",
        "plt.xticks(rotation=90);"
      ],
      "metadata": {
        "colab": {
          "base_uri": "https://localhost:8080/",
          "height": 535
        },
        "id": "hNQs8mSUVGVV",
        "outputId": "9e7a559c-4723-4e2c-a88c-d37b7b8c110d"
      },
      "execution_count": null,
      "outputs": [
        {
          "output_type": "display_data",
          "data": {
            "text/plain": [
              "<Figure size 1080x576 with 1 Axes>"
            ],
            "image/png": "[encoded data removed]"
          },
          "metadata": {
            "needs_background": "light"
          }
        }
      ]
    },
    {
      "cell_type": "markdown",
      "source": [
        "Here , we observe that food preparation time is high for rating 3 whereas for lower food prepration time user has given rating 5 or 'Not given'"
      ],
      "metadata": {
        "id": "CcUvhXpROtmW"
      }
    },
    {
      "cell_type": "code",
      "source": [
        "df.corr()"
      ],
      "metadata": {
        "colab": {
          "base_uri": "https://localhost:8080/",
          "height": 206
        },
        "id": "dKSVTAYNdtZu",
        "outputId": "7939055f-938d-4fec-eb03-de097388d779"
      },
      "execution_count": null,
      "outputs": [
        {
          "output_type": "execute_result",
          "data": {
            "text/plain": [
              "                       order_id  customer_id  cost_of_the_order  \\\n",
              "order_id                   1.00        -0.01               0.02   \n",
              "customer_id               -0.01         1.00              -0.00   \n",
              "cost_of_the_order          0.02        -0.00               1.00   \n",
              "food_preparation_time     -0.01        -0.03               0.04   \n",
              "delivery_time              0.01        -0.01              -0.03   \n",
              "\n",
              "                       food_preparation_time  delivery_time  \n",
              "order_id                               -0.01           0.01  \n",
              "customer_id                            -0.03          -0.01  \n",
              "cost_of_the_order                       0.04          -0.03  \n",
              "food_preparation_time                   1.00           0.01  \n",
              "delivery_time                           0.01           1.00  "
            ],
            "text/html": [
              "\n",
              "  <div id=\"df-06d132be-d8b9-406d-9eec-788e6b33105f\">\n",
              "    <div class=\"colab-df-container\">\n",
              "      <div>\n",
              "<style scoped>\n",
              "    .dataframe tbody tr th:only-of-type {\n",
              "        vertical-align: middle;\n",
              "    }\n",
              "\n",
              "    .dataframe tbody tr th {\n",
              "        vertical-align: top;\n",
              "    }\n",
              "\n",
              "    .dataframe thead th {\n",
              "        text-align: right;\n",
              "    }\n",
              "</style>\n",
              "<table border=\"1\" class=\"dataframe\">\n",
              "  <thead>\n",
              "    <tr style=\"text-align: right;\">\n",
              "      <th></th>\n",
              "      <th>order_id</th>\n",
              "      <th>customer_id</th>\n",
              "      <th>cost_of_the_order</th>\n",
              "      <th>food_preparation_time</th>\n",
              "      <th>delivery_time</th>\n",
              "    </tr>\n",
              "  </thead>\n",
              "  <tbody>\n",
              "    <tr>\n",
              "      <th>order_id</th>\n",
              "      <td>1.00</td>\n",
              "      <td>-0.01</td>\n",
              "      <td>0.02</td>\n",
              "      <td>-0.01</td>\n",
              "      <td>0.01</td>\n",
              "    </tr>\n",
              "    <tr>\n",
              "      <th>customer_id</th>\n",
              "      <td>-0.01</td>\n",
              "      <td>1.00</td>\n",
              "      <td>-0.00</td>\n",
              "      <td>-0.03</td>\n",
              "      <td>-0.01</td>\n",
              "    </tr>\n",
              "    <tr>\n",
              "      <th>cost_of_the_order</th>\n",
              "      <td>0.02</td>\n",
              "      <td>-0.00</td>\n",
              "      <td>1.00</td>\n",
              "      <td>0.04</td>\n",
              "      <td>-0.03</td>\n",
              "    </tr>\n",
              "    <tr>\n",
              "      <th>food_preparation_time</th>\n",
              "      <td>-0.01</td>\n",
              "      <td>-0.03</td>\n",
              "      <td>0.04</td>\n",
              "      <td>1.00</td>\n",
              "      <td>0.01</td>\n",
              "    </tr>\n",
              "    <tr>\n",
              "      <th>delivery_time</th>\n",
              "      <td>0.01</td>\n",
              "      <td>-0.01</td>\n",
              "      <td>-0.03</td>\n",
              "      <td>0.01</td>\n",
              "      <td>1.00</td>\n",
              "    </tr>\n",
              "  </tbody>\n",
              "</table>\n",
              "</div>\n",
              "      <button class=\"colab-df-convert\" onclick=\"convertToInteractive('df-06d132be-d8b9-406d-9eec-788e6b33105f')\"\n",
              "              title=\"Convert this dataframe to an interactive table.\"\n",
              "              style=\"display:none;\">\n",
              "        \n",
              "  <svg xmlns=\"http://www.w3.org/2000/svg\" height=\"24px\"viewBox=\"0 0 24 24\"\n",
              "       width=\"24px\">\n",
              "    <path d=\"M0 0h24v24H0V0z\" fill=\"none\"/>\n",
              "    <path d=\"M18.56 5.44l.94 2.06.94-2.06 2.06-.94-2.06-.94-.94-2.06-.94 2.06-2.06.94zm-11 1L8.5 8.5l.94-2.06 2.06-.94-2.06-.94L8.5 2.5l-.94 2.06-2.06.94zm10 10l.94 2.06.94-2.06 2.06-.94-2.06-.94-.94-2.06-.94 2.06-2.06.94z\"/><path d=\"M17.41 7.96l-1.37-1.37c-.4-.4-.92-.59-1.43-.59-.52 0-1.04.2-1.43.59L10.3 9.45l-7.72 7.72c-.78.78-.78 2.05 0 2.83L4 21.41c.39.39.9.59 1.41.59.51 0 1.02-.2 1.41-.59l7.78-7.78 2.81-2.81c.8-.78.8-2.07 0-2.86zM5.41 20L4 18.59l7.72-7.72 1.47 1.35L5.41 20z\"/>\n",
              "  </svg>\n",
              "      </button>\n",
              "      \n",
              "  <style>\n",
              "    .colab-df-container {\n",
              "      display:flex;\n",
              "      flex-wrap:wrap;\n",
              "      gap: 12px;\n",
              "    }\n",
              "\n",
              "    .colab-df-convert {\n",
              "      background-color: #E8F0FE;\n",
              "      border: none;\n",
              "      border-radius: 50%;\n",
              "      cursor: pointer;\n",
              "      display: none;\n",
              "      fill: #1967D2;\n",
              "      height: 32px;\n",
              "      padding: 0 0 0 0;\n",
              "      width: 32px;\n",
              "    }\n",
              "\n",
              "    .colab-df-convert:hover {\n",
              "      background-color: #E2EBFA;\n",
              "      box-shadow: 0px 1px 2px rgba(60, 64, 67, 0.3), 0px 1px 3px 1px rgba(60, 64, 67, 0.15);\n",
              "      fill: #174EA6;\n",
              "    }\n",
              "\n",
              "    [theme=dark] .colab-df-convert {\n",
              "      background-color: #3B4455;\n",
              "      fill: #D2E3FC;\n",
              "    }\n",
              "\n",
              "    [theme=dark] .colab-df-convert:hover {\n",
              "      background-color: #434B5C;\n",
              "      box-shadow: 0px 1px 3px 1px rgba(0, 0, 0, 0.15);\n",
              "      filter: drop-shadow(0px 1px 2px rgba(0, 0, 0, 0.3));\n",
              "      fill: #FFFFFF;\n",
              "    }\n",
              "  </style>\n",
              "\n",
              "      <script>\n",
              "        const buttonEl =\n",
              "          document.querySelector('#df-06d132be-d8b9-406d-9eec-788e6b33105f button.colab-df-convert');\n",
              "        buttonEl.style.display =\n",
              "          google.colab.kernel.accessAllowed ? 'block' : 'none';\n",
              "\n",
              "        async function convertToInteractive(key) {\n",
              "          const element = document.querySelector('#df-06d132be-d8b9-406d-9eec-788e6b33105f');\n",
              "          const dataTable =\n",
              "            await google.colab.kernel.invokeFunction('convertToInteractive',\n",
              "                                                     [key], {});\n",
              "          if (!dataTable) return;\n",
              "\n",
              "          const docLinkHtml = 'Like what you see? Visit the ' +\n",
              "            '<a target=\"_blank\" href=https://colab.research.google.com/notebooks/data_table.ipynb>data table notebook</a>'\n",
              "            + ' to learn more about interactive tables.';\n",
              "          element.innerHTML = '';\n",
              "          dataTable['output_type'] = 'display_data';\n",
              "          await google.colab.output.renderOutput(dataTable, element);\n",
              "          const docLink = document.createElement('div');\n",
              "          docLink.innerHTML = docLinkHtml;\n",
              "          element.appendChild(docLink);\n",
              "        }\n",
              "      </script>\n",
              "    </div>\n",
              "  </div>\n",
              "  "
            ]
          },
          "metadata": {},
          "execution_count": 14
        }
      ]
    },
    {
      "cell_type": "code",
      "source": [
        "df.cov()"
      ],
      "metadata": {
        "colab": {
          "base_uri": "https://localhost:8080/",
          "height": 206
        },
        "id": "WyjLIlZhdxwo",
        "outputId": "f973b170-ba66-4f0b-909d-3357495b5512"
      },
      "execution_count": null,
      "outputs": [
        {
          "output_type": "execute_result",
          "data": {
            "text/plain": [
              "                        order_id    customer_id  cost_of_the_order  \\\n",
              "order_id               300358.50     -869897.18              86.83   \n",
              "customer_id           -869897.18 12927266981.03           -1124.48   \n",
              "cost_of_the_order          86.83       -1124.48              56.01   \n",
              "food_preparation_time     -17.84      -15974.76               1.44   \n",
              "delivery_time              26.41       -5588.93              -1.11   \n",
              "\n",
              "                       food_preparation_time  delivery_time  \n",
              "order_id                              -17.84          26.41  \n",
              "customer_id                        -15974.76       -5588.93  \n",
              "cost_of_the_order                       1.44          -1.11  \n",
              "food_preparation_time                  21.46           0.26  \n",
              "delivery_time                           0.26          24.73  "
            ],
            "text/html": [
              "\n",
              "  <div id=\"df-e4195d9a-db0c-4501-bfd1-a3837501ba29\">\n",
              "    <div class=\"colab-df-container\">\n",
              "      <div>\n",
              "<style scoped>\n",
              "    .dataframe tbody tr th:only-of-type {\n",
              "        vertical-align: middle;\n",
              "    }\n",
              "\n",
              "    .dataframe tbody tr th {\n",
              "        vertical-align: top;\n",
              "    }\n",
              "\n",
              "    .dataframe thead th {\n",
              "        text-align: right;\n",
              "    }\n",
              "</style>\n",
              "<table border=\"1\" class=\"dataframe\">\n",
              "  <thead>\n",
              "    <tr style=\"text-align: right;\">\n",
              "      <th></th>\n",
              "      <th>order_id</th>\n",
              "      <th>customer_id</th>\n",
              "      <th>cost_of_the_order</th>\n",
              "      <th>food_preparation_time</th>\n",
              "      <th>delivery_time</th>\n",
              "    </tr>\n",
              "  </thead>\n",
              "  <tbody>\n",
              "    <tr>\n",
              "      <th>order_id</th>\n",
              "      <td>300358.50</td>\n",
              "      <td>-869897.18</td>\n",
              "      <td>86.83</td>\n",
              "      <td>-17.84</td>\n",
              "      <td>26.41</td>\n",
              "    </tr>\n",
              "    <tr>\n",
              "      <th>customer_id</th>\n",
              "      <td>-869897.18</td>\n",
              "      <td>12927266981.03</td>\n",
              "      <td>-1124.48</td>\n",
              "      <td>-15974.76</td>\n",
              "      <td>-5588.93</td>\n",
              "    </tr>\n",
              "    <tr>\n",
              "      <th>cost_of_the_order</th>\n",
              "      <td>86.83</td>\n",
              "      <td>-1124.48</td>\n",
              "      <td>56.01</td>\n",
              "      <td>1.44</td>\n",
              "      <td>-1.11</td>\n",
              "    </tr>\n",
              "    <tr>\n",
              "      <th>food_preparation_time</th>\n",
              "      <td>-17.84</td>\n",
              "      <td>-15974.76</td>\n",
              "      <td>1.44</td>\n",
              "      <td>21.46</td>\n",
              "      <td>0.26</td>\n",
              "    </tr>\n",
              "    <tr>\n",
              "      <th>delivery_time</th>\n",
              "      <td>26.41</td>\n",
              "      <td>-5588.93</td>\n",
              "      <td>-1.11</td>\n",
              "      <td>0.26</td>\n",
              "      <td>24.73</td>\n",
              "    </tr>\n",
              "  </tbody>\n",
              "</table>\n",
              "</div>\n",
              "      <button class=\"colab-df-convert\" onclick=\"convertToInteractive('df-e4195d9a-db0c-4501-bfd1-a3837501ba29')\"\n",
              "              title=\"Convert this dataframe to an interactive table.\"\n",
              "              style=\"display:none;\">\n",
              "        \n",
              "  <svg xmlns=\"http://www.w3.org/2000/svg\" height=\"24px\"viewBox=\"0 0 24 24\"\n",
              "       width=\"24px\">\n",
              "    <path d=\"M0 0h24v24H0V0z\" fill=\"none\"/>\n",
              "    <path d=\"M18.56 5.44l.94 2.06.94-2.06 2.06-.94-2.06-.94-.94-2.06-.94 2.06-2.06.94zm-11 1L8.5 8.5l.94-2.06 2.06-.94-2.06-.94L8.5 2.5l-.94 2.06-2.06.94zm10 10l.94 2.06.94-2.06 2.06-.94-2.06-.94-.94-2.06-.94 2.06-2.06.94z\"/><path d=\"M17.41 7.96l-1.37-1.37c-.4-.4-.92-.59-1.43-.59-.52 0-1.04.2-1.43.59L10.3 9.45l-7.72 7.72c-.78.78-.78 2.05 0 2.83L4 21.41c.39.39.9.59 1.41.59.51 0 1.02-.2 1.41-.59l7.78-7.78 2.81-2.81c.8-.78.8-2.07 0-2.86zM5.41 20L4 18.59l7.72-7.72 1.47 1.35L5.41 20z\"/>\n",
              "  </svg>\n",
              "      </button>\n",
              "      \n",
              "  <style>\n",
              "    .colab-df-container {\n",
              "      display:flex;\n",
              "      flex-wrap:wrap;\n",
              "      gap: 12px;\n",
              "    }\n",
              "\n",
              "    .colab-df-convert {\n",
              "      background-color: #E8F0FE;\n",
              "      border: none;\n",
              "      border-radius: 50%;\n",
              "      cursor: pointer;\n",
              "      display: none;\n",
              "      fill: #1967D2;\n",
              "      height: 32px;\n",
              "      padding: 0 0 0 0;\n",
              "      width: 32px;\n",
              "    }\n",
              "\n",
              "    .colab-df-convert:hover {\n",
              "      background-color: #E2EBFA;\n",
              "      box-shadow: 0px 1px 2px rgba(60, 64, 67, 0.3), 0px 1px 3px 1px rgba(60, 64, 67, 0.15);\n",
              "      fill: #174EA6;\n",
              "    }\n",
              "\n",
              "    [theme=dark] .colab-df-convert {\n",
              "      background-color: #3B4455;\n",
              "      fill: #D2E3FC;\n",
              "    }\n",
              "\n",
              "    [theme=dark] .colab-df-convert:hover {\n",
              "      background-color: #434B5C;\n",
              "      box-shadow: 0px 1px 3px 1px rgba(0, 0, 0, 0.15);\n",
              "      filter: drop-shadow(0px 1px 2px rgba(0, 0, 0, 0.3));\n",
              "      fill: #FFFFFF;\n",
              "    }\n",
              "  </style>\n",
              "\n",
              "      <script>\n",
              "        const buttonEl =\n",
              "          document.querySelector('#df-e4195d9a-db0c-4501-bfd1-a3837501ba29 button.colab-df-convert');\n",
              "        buttonEl.style.display =\n",
              "          google.colab.kernel.accessAllowed ? 'block' : 'none';\n",
              "\n",
              "        async function convertToInteractive(key) {\n",
              "          const element = document.querySelector('#df-e4195d9a-db0c-4501-bfd1-a3837501ba29');\n",
              "          const dataTable =\n",
              "            await google.colab.kernel.invokeFunction('convertToInteractive',\n",
              "                                                     [key], {});\n",
              "          if (!dataTable) return;\n",
              "\n",
              "          const docLinkHtml = 'Like what you see? Visit the ' +\n",
              "            '<a target=\"_blank\" href=https://colab.research.google.com/notebooks/data_table.ipynb>data table notebook</a>'\n",
              "            + ' to learn more about interactive tables.';\n",
              "          element.innerHTML = '';\n",
              "          dataTable['output_type'] = 'display_data';\n",
              "          await google.colab.output.renderOutput(dataTable, element);\n",
              "          const docLink = document.createElement('div');\n",
              "          docLink.innerHTML = docLinkHtml;\n",
              "          element.appendChild(docLink);\n",
              "        }\n",
              "      </script>\n",
              "    </div>\n",
              "  </div>\n",
              "  "
            ]
          },
          "metadata": {},
          "execution_count": 15
        }
      ]
    },
    {
      "cell_type": "code",
      "source": [
        "# Plot the heatmap \n",
        "col_list = ['cost_of_the_order', 'food_preparation_time', 'delivery_time']\n",
        "plt.figure(figsize=(15, 7))\n",
        "sns.heatmap(df[col_list].corr(), annot=True, vmin=-1, vmax=1, fmt=\".2f\", cmap=\"Spectral\")\n",
        "plt.show()"
      ],
      "metadata": {
        "colab": {
          "base_uri": "https://localhost:8080/",
          "height": 433
        },
        "id": "jFAjmxfXVl4j",
        "outputId": "ce9c789b-842c-4099-9a85-34b9a1dd6360"
      },
      "execution_count": null,
      "outputs": [
        {
          "output_type": "display_data",
          "data": {
            "text/plain": [
              "<Figure size 1080x504 with 2 Axes>"
            ],
            "image/png": "[encoded data removed]"
          },
          "metadata": {
            "needs_background": "light"
          }
        }
      ]
    },
    {
      "cell_type": "code",
      "source": [
        "sns.pairplot(data=df[col_list], diag_kind=\"kde\")\n",
        "plt.show()"
      ],
      "metadata": {
        "colab": {
          "base_uri": "https://localhost:8080/",
          "height": 550
        },
        "id": "dtf8JBcYPawi",
        "outputId": "3e72c2d4-ca56-4ffc-b73e-42fe56444deb"
      },
      "execution_count": null,
      "outputs": [
        {
          "output_type": "display_data",
          "data": {
            "text/plain": [
              "<Figure size 540x540 with 12 Axes>"
            ],
            "image/png": "[encoded data removed]"
          },
          "metadata": {
            "needs_background": "light"
          }
        }
      ]
    },
    {
      "cell_type": "markdown",
      "source": [
        "No linear relationship can be identified"
      ],
      "metadata": {
        "id": "GJ3WL-Ped4tD"
      }
    },
    {
      "cell_type": "markdown",
      "metadata": {
        "id": "YLkMf09YJY_V"
      },
      "source": [
        "### **Question 13:** The company wants to provide a promotional offer in the advertisement of the restaurants. The condition to get the offer is that the restaurants must have a rating count of more than 50 and the average rating should be greater than 4. Find the restaurants fulfilling the criteria to get the promotional offer. [3 marks]"
      ]
    },
    {
      "cell_type": "code",
      "execution_count": null,
      "metadata": {
        "id": "0M_QDvbYJY_V",
        "colab": {
          "base_uri": "https://localhost:8080/",
          "height": 211
        },
        "outputId": "76cb8666-a4eb-415b-8777-0fa7516295c4"
      },
      "outputs": [
        {
          "output_type": "stream",
          "name": "stdout",
          "text": [
            "The restaurants fulfilling the criteria to get the promotional offer are : \n",
            "--------------------------------------------------------------------------------\n"
          ]
        },
        {
          "output_type": "execute_result",
          "data": {
            "text/plain": [
              "             restaurant_name  avg_rating  rating_counts\n",
              "0                Shake Shack        4.28            133\n",
              "1          The Meatball Shop        4.51             84\n",
              "2          Blue Ribbon Sushi        4.22             73\n",
              "3  Blue Ribbon Fried Chicken        4.33             64"
            ],
            "text/html": [
              "\n",
              "  <div id=\"df-ccff4b2a-ac45-489c-9adf-8d320730de26\">\n",
              "    <div class=\"colab-df-container\">\n",
              "      <div>\n",
              "<style scoped>\n",
              "    .dataframe tbody tr th:only-of-type {\n",
              "        vertical-align: middle;\n",
              "    }\n",
              "\n",
              "    .dataframe tbody tr th {\n",
              "        vertical-align: top;\n",
              "    }\n",
              "\n",
              "    .dataframe thead th {\n",
              "        text-align: right;\n",
              "    }\n",
              "</style>\n",
              "<table border=\"1\" class=\"dataframe\">\n",
              "  <thead>\n",
              "    <tr style=\"text-align: right;\">\n",
              "      <th></th>\n",
              "      <th>restaurant_name</th>\n",
              "      <th>avg_rating</th>\n",
              "      <th>rating_counts</th>\n",
              "    </tr>\n",
              "  </thead>\n",
              "  <tbody>\n",
              "    <tr>\n",
              "      <th>0</th>\n",
              "      <td>Shake Shack</td>\n",
              "      <td>4.28</td>\n",
              "      <td>133</td>\n",
              "    </tr>\n",
              "    <tr>\n",
              "      <th>1</th>\n",
              "      <td>The Meatball Shop</td>\n",
              "      <td>4.51</td>\n",
              "      <td>84</td>\n",
              "    </tr>\n",
              "    <tr>\n",
              "      <th>2</th>\n",
              "      <td>Blue Ribbon Sushi</td>\n",
              "      <td>4.22</td>\n",
              "      <td>73</td>\n",
              "    </tr>\n",
              "    <tr>\n",
              "      <th>3</th>\n",
              "      <td>Blue Ribbon Fried Chicken</td>\n",
              "      <td>4.33</td>\n",
              "      <td>64</td>\n",
              "    </tr>\n",
              "  </tbody>\n",
              "</table>\n",
              "</div>\n",
              "      <button class=\"colab-df-convert\" onclick=\"convertToInteractive('df-ccff4b2a-ac45-489c-9adf-8d320730de26')\"\n",
              "              title=\"Convert this dataframe to an interactive table.\"\n",
              "              style=\"display:none;\">\n",
              "        \n",
              "  <svg xmlns=\"http://www.w3.org/2000/svg\" height=\"24px\"viewBox=\"0 0 24 24\"\n",
              "       width=\"24px\">\n",
              "    <path d=\"M0 0h24v24H0V0z\" fill=\"none\"/>\n",
              "    <path d=\"M18.56 5.44l.94 2.06.94-2.06 2.06-.94-2.06-.94-.94-2.06-.94 2.06-2.06.94zm-11 1L8.5 8.5l.94-2.06 2.06-.94-2.06-.94L8.5 2.5l-.94 2.06-2.06.94zm10 10l.94 2.06.94-2.06 2.06-.94-2.06-.94-.94-2.06-.94 2.06-2.06.94z\"/><path d=\"M17.41 7.96l-1.37-1.37c-.4-.4-.92-.59-1.43-.59-.52 0-1.04.2-1.43.59L10.3 9.45l-7.72 7.72c-.78.78-.78 2.05 0 2.83L4 21.41c.39.39.9.59 1.41.59.51 0 1.02-.2 1.41-.59l7.78-7.78 2.81-2.81c.8-.78.8-2.07 0-2.86zM5.41 20L4 18.59l7.72-7.72 1.47 1.35L5.41 20z\"/>\n",
              "  </svg>\n",
              "      </button>\n",
              "      \n",
              "  <style>\n",
              "    .colab-df-container {\n",
              "      display:flex;\n",
              "      flex-wrap:wrap;\n",
              "      gap: 12px;\n",
              "    }\n",
              "\n",
              "    .colab-df-convert {\n",
              "      background-color: #E8F0FE;\n",
              "      border: none;\n",
              "      border-radius: 50%;\n",
              "      cursor: pointer;\n",
              "      display: none;\n",
              "      fill: #1967D2;\n",
              "      height: 32px;\n",
              "      padding: 0 0 0 0;\n",
              "      width: 32px;\n",
              "    }\n",
              "\n",
              "    .colab-df-convert:hover {\n",
              "      background-color: #E2EBFA;\n",
              "      box-shadow: 0px 1px 2px rgba(60, 64, 67, 0.3), 0px 1px 3px 1px rgba(60, 64, 67, 0.15);\n",
              "      fill: #174EA6;\n",
              "    }\n",
              "\n",
              "    [theme=dark] .colab-df-convert {\n",
              "      background-color: #3B4455;\n",
              "      fill: #D2E3FC;\n",
              "    }\n",
              "\n",
              "    [theme=dark] .colab-df-convert:hover {\n",
              "      background-color: #434B5C;\n",
              "      box-shadow: 0px 1px 3px 1px rgba(0, 0, 0, 0.15);\n",
              "      filter: drop-shadow(0px 1px 2px rgba(0, 0, 0, 0.3));\n",
              "      fill: #FFFFFF;\n",
              "    }\n",
              "  </style>\n",
              "\n",
              "      <script>\n",
              "        const buttonEl =\n",
              "          document.querySelector('#df-ccff4b2a-ac45-489c-9adf-8d320730de26 button.colab-df-convert');\n",
              "        buttonEl.style.display =\n",
              "          google.colab.kernel.accessAllowed ? 'block' : 'none';\n",
              "\n",
              "        async function convertToInteractive(key) {\n",
              "          const element = document.querySelector('#df-ccff4b2a-ac45-489c-9adf-8d320730de26');\n",
              "          const dataTable =\n",
              "            await google.colab.kernel.invokeFunction('convertToInteractive',\n",
              "                                                     [key], {});\n",
              "          if (!dataTable) return;\n",
              "\n",
              "          const docLinkHtml = 'Like what you see? Visit the ' +\n",
              "            '<a target=\"_blank\" href=https://colab.research.google.com/notebooks/data_table.ipynb>data table notebook</a>'\n",
              "            + ' to learn more about interactive tables.';\n",
              "          element.innerHTML = '';\n",
              "          dataTable['output_type'] = 'display_data';\n",
              "          await google.colab.output.renderOutput(dataTable, element);\n",
              "          const docLink = document.createElement('div');\n",
              "          docLink.innerHTML = docLinkHtml;\n",
              "          element.appendChild(docLink);\n",
              "        }\n",
              "      </script>\n",
              "    </div>\n",
              "  </div>\n",
              "  "
            ]
          },
          "metadata": {},
          "execution_count": 9
        }
      ],
      "source": [
        "# Write the code here\n",
        "# Removing Rating which are Not given\n",
        "df_ratings = df[df['rating'] != 'Not given'].copy()\n",
        "\n",
        "# Now dataframe, df_ratings has ratings as 1,2,3,4,5\n",
        "# Changing data type of rating column from object to integer\n",
        "df_ratings['rating'] = df_ratings['rating'].astype('int')  \n",
        "\n",
        "# Creating a dataframe group by the restaurant names with their rating counts\n",
        "# fileting count values greater than 50 by using lamda\n",
        "df_rating_50count = df_ratings.groupby(['restaurant_name'])['rating'].count()[lambda x: x>50].sort_values(ascending = False).reset_index() \n",
        "\n",
        "#Renaming the column name as rating_counts \n",
        "df_rating_50count.rename(columns = {'rating':'rating_counts'}, inplace = True)\n",
        "#print(df_rating_count)\n",
        "\n",
        "# Creating a dataframe group by the restaurant names with their average (mean) rating \n",
        "# fileting mean values greater than 4 by using lamda\n",
        "df_rating4_mean = df_ratings.groupby(['restaurant_name'])['rating'].mean()[lambda x: x>4].sort_values(ascending = False).reset_index()\n",
        "#Renaming the column name as rating counts\n",
        "df_rating4_mean.rename(columns = {'rating':'avg_rating'}, inplace = True)\n",
        "#print(df_rating_mean)\n",
        "\n",
        "print('The restaurants fulfilling the criteria to get the promotional offer are : ')\n",
        "print('----'*20)\n",
        "\n",
        "# Merging 2 dataframes - df_rating4_mean (dataframe with mean rating greater than 4) and \n",
        "# df_rating_50count(dataframe with rating counts more than 50) using keys from the right dataframe\n",
        "# Column/index names to join on in the left DataFrame is restaurant_name\n",
        "# Column/index names to join on in the right DataFrame is restaurant_name\n",
        "\n",
        "df_rating4_mean.merge(df_rating_50count, how = 'right', indicator=False, left_on='restaurant_name', \n",
        "                                                            right_on='restaurant_name').sort_values(by='rating_counts',ascending = False)\n"
      ]
    },
    {
      "cell_type": "markdown",
      "metadata": {
        "id": "10uryUMhJY_V"
      },
      "source": [
        "#### Observations:\n",
        "\n",
        "1.   First we removed the value - 'Not given' from the column rating as this value can't be considered for the given scenario and copied to a new dataframe\n",
        "2.   We observed that data type of the column rating is object , so it has been changed to integer.\n",
        "3.   Created a dataframe where restaurants have rating count of more than 50\n",
        "4.   Created second dataframe where restaurants have average rating  more than 4\n",
        "5.   Merged two dataframed based on keys from the first dataframe (restaurants rating count>50)\n",
        "\n",
        "The result shows that there are 4 restaurants which has average rating greater than 4 and rating counts more than 50\n",
        "\n",
        "\n"
      ]
    },
    {
      "cell_type": "markdown",
      "metadata": {
        "id": "1gvWBkRUJY_V"
      },
      "source": [
        "### **Question 14:** The company charges the restaurant 25% on the orders having cost greater than 20 dollars and 15% on the orders having cost greater than 5 dollars. Find the net revenue generated by the company across all orders. [3 marks]"
      ]
    },
    {
      "cell_type": "code",
      "execution_count": null,
      "metadata": {
        "id": "rEjbnTNEJY_W",
        "colab": {
          "base_uri": "https://localhost:8080/"
        },
        "outputId": "f7143353-09ed-47d3-ccb1-3733f22026c7"
      },
      "outputs": [
        {
          "output_type": "stream",
          "name": "stdout",
          "text": [
            "Net revenue generated by company across all orders is : 6166.303\n"
          ]
        }
      ],
      "source": [
        "# Calculating the revenue using below function\n",
        "def calculate_rev(cost):\n",
        "    \n",
        "    # For order>20$, charges 25%\n",
        "    if cost > 20:\n",
        "        return cost*0.25\n",
        "    \n",
        "    # For order>5$, charges 15%    \n",
        "    elif cost > 5:\n",
        "        return cost*0.15\n",
        "    # For all other orders <=5$\n",
        "    else:\n",
        "        return 0\n",
        "\n",
        "# Calculating revenue and storing the value in new column - revenue\n",
        "df['revenue'] = df['cost_of_the_order'].apply(calculate_rev)\n",
        "\n",
        "# Calculating total revenues\n",
        "net_revenue = df['revenue'].sum()\n",
        "print('Net revenue generated by company across all orders is :',net_revenue)\n"
      ]
    },
    {
      "cell_type": "code",
      "source": [
        "sns.histplot(data=df,x='revenue') ;\n",
        "plt.show()\n",
        "sns.boxplot(data=df,x='revenue')\n",
        "plt.show()"
      ],
      "metadata": {
        "colab": {
          "base_uri": "https://localhost:8080/",
          "height": 541
        },
        "id": "uW_2UEuBmT5i",
        "outputId": "22178081-a887-4d9f-9600-4d4f928369cb"
      },
      "execution_count": null,
      "outputs": [
        {
          "output_type": "display_data",
          "data": {
            "text/plain": [
              "<Figure size 432x288 with 1 Axes>"
            ],
            "image/png": "[encoded data removed]"
          },
          "metadata": {
            "needs_background": "light"
          }
        },
        {
          "output_type": "display_data",
          "data": {
            "text/plain": [
              "<Figure size 432x288 with 1 Axes>"
            ],
            "image/png": "[encoded data removed]"
          },
          "metadata": {
            "needs_background": "light"
          }
        }
      ]
    },
    {
      "cell_type": "markdown",
      "metadata": {
        "id": "XHCEJgH0JY_W"
      },
      "source": [
        "#### Observations:\n",
        "\n",
        "\n",
        "*   Net revenue generated by company across all orders is : 6166.30 USD\n",
        "*   Data for revenue is a bit right skewed and there is no outlier\n",
        "\n",
        "\n"
      ]
    },
    {
      "cell_type": "markdown",
      "metadata": {
        "id": "pRlVW-oeJY_W"
      },
      "source": [
        "### **Question 15:** The company wants to analyze the total time required to deliver the food. What percentage of orders take more than 60 minutes to get delivered from the time the order is placed? (The food has to be prepared and then delivered.) [2 marks]"
      ]
    },
    {
      "cell_type": "code",
      "execution_count": null,
      "metadata": {
        "id": "zxoTrxfLJY_W",
        "colab": {
          "base_uri": "https://localhost:8080/"
        },
        "outputId": "5567bea7-19d1-4961-b2ab-d2294f8d837b"
      },
      "outputs": [
        {
          "output_type": "stream",
          "name": "stdout",
          "text": [
            "The percentage of orders take more than 60 minutes to get delivered : 10.54\n"
          ]
        }
      ],
      "source": [
        "# Getting total delivery time and adding a new column total_del_time to the dataframe to store the total delivery time\n",
        "df['total_del_time'] = df['food_preparation_time'] + df['delivery_time']\n",
        "#df.head()\n",
        "\n",
        "# Gettingvalues with  total_del_time > 60 minutes\n",
        "df_del_time60 = df[df['total_del_time']>60].copy()\n",
        "#df_del_time60\n",
        "\n",
        "tot_ord_count = df.shape[0]\n",
        "ord_count_60m = df_del_time60.shape[0]\n",
        "\n",
        "perc_ord_60m = ord_count_60m/tot_ord_count *100\n",
        "print('The percentage of orders take more than 60 minutes to get delivered :', round(perc_ord_60m, 2))\n",
        "\n"
      ]
    },
    {
      "cell_type": "markdown",
      "metadata": {
        "id": "bUd6cYpPJY_W"
      },
      "source": [
        "### **Question 16:** The company wants to analyze the delivery time of the orders on weekdays and weekends. How does the mean delivery time vary during weekdays and weekends? [2 marks]"
      ]
    },
    {
      "cell_type": "code",
      "execution_count": null,
      "metadata": {
        "id": "pIU5xZZ6JY_W",
        "colab": {
          "base_uri": "https://localhost:8080/"
        },
        "outputId": "beea2836-fb65-44d4-9176-515e30d5bef5"
      },
      "outputs": [
        {
          "output_type": "stream",
          "name": "stdout",
          "text": [
            "The mean delivery time during weekdays is : 28.34\n",
            "The mean delivery time during weekend is : 22.47\n"
          ]
        }
      ],
      "source": [
        "# Getting mean delivery_time for Weekday\n",
        "del_time_mean_weekday = df[df['day_of_the_week'] == 'Weekday']['delivery_time'].mean()\n",
        "print('The mean delivery time during weekdays is :', round(del_time_mean_weekday, 2))\n",
        "\n",
        "# Getting mean delivery_time for Weekend\n",
        "del_time_mean_weekend = df[df['day_of_the_week'] == 'Weekend']['delivery_time'].mean()\n",
        "print('The mean delivery time during weekend is :', round(del_time_mean_weekend, 2))"
      ]
    },
    {
      "cell_type": "code",
      "source": [
        "sns.barplot(data= df, y='delivery_time', x='day_of_the_week');\n"
      ],
      "metadata": {
        "colab": {
          "base_uri": "https://localhost:8080/",
          "height": 280
        },
        "id": "r8fTZu7FsvvB",
        "outputId": "84b962e6-7986-435b-97eb-0eeda5bef833"
      },
      "execution_count": null,
      "outputs": [
        {
          "output_type": "display_data",
          "data": {
            "text/plain": [
              "<Figure size 432x288 with 1 Axes>"
            ],
            "image/png": "[encoded data removed]"
          },
          "metadata": {
            "needs_background": "light"
          }
        }
      ]
    },
    {
      "cell_type": "markdown",
      "metadata": {
        "id": "8H-ODxbVJY_W"
      },
      "source": [
        "#### Observations: \n",
        " - Average delivery time is higher on weekdays than weekend\n"
      ]
    },
    {
      "cell_type": "code",
      "source": [
        "df.groupby(['day_of_the_week'])['order_id'].count()"
      ],
      "metadata": {
        "colab": {
          "base_uri": "https://localhost:8080/"
        },
        "id": "UjhoPpAVY0jc",
        "outputId": "19004f48-d0a8-4d2b-b788-4636895445ca"
      },
      "execution_count": null,
      "outputs": [
        {
          "output_type": "execute_result",
          "data": {
            "text/plain": [
              "day_of_the_week\n",
              "Weekday     547\n",
              "Weekend    1351\n",
              "Name: order_id, dtype: int64"
            ]
          },
          "metadata": {},
          "execution_count": 67
        }
      ]
    },
    {
      "cell_type": "markdown",
      "metadata": {
        "id": "17roJywaJY_W"
      },
      "source": [
        "### Conclusion and Recommendations"
      ]
    },
    {
      "cell_type": "markdown",
      "metadata": {
        "id": "ZdX2Wz4FJY_W"
      },
      "source": [
        "### **Question 17:** What are your conclusions from the analysis? What recommendations would you like to share to help improve the business? (You can use cuisine type and feedback ratings to drive your business recommendations.) [6 marks]"
      ]
    },
    {
      "cell_type": "markdown",
      "metadata": {
        "id": "VTugVsL4Ddz-"
      },
      "source": [
        "### Conclusions:\n",
        "\n",
        "The Dataset extracted from the Food Hub has been analysed to understand customer demand and enhance customer experience.With the help of descriptive analysis and visualisations, some insights have been drawn as below:\n",
        "*  Most of the customers (784 out of 1200) have placed only one order that means **65% customers have placed only one order**. \n",
        "   22% customers have places 2 orders.\n",
        "\n",
        "   Only 2 customers out 1200 customers have placed more than 10 orders   \n",
        "        customer_id  order_count\n",
        "        52832           13\n",
        "        47440           10\n",
        "\n",
        "* **American , Japanese, Italian** - are top 3 popular and highly rated cuisines\n",
        "\n",
        "* Most of the orders are placed on **weekends**\n",
        "      Weekday  -   547\n",
        "      Weekend  -  1351\n",
        "\n",
        "* Customers gave more **good rating (4) for quicker delivery**\n",
        "\n",
        "* Average delivery time is high on **weekdays** \n",
        "      weekdays: 28.34\n",
        "      weekend : 22.47\n",
        "      \n",
        "* Only **3 restaurants** have more than 100 orders :\n",
        "      Restaurant               Order counts\n",
        "      Shake Shack                  219\n",
        "      The Meatball Shop            132\n",
        "      Blue Ribbon Sushi            119\n",
        "\n",
        "\n",
        "\n",
        "\n"
      ]
    },
    {
      "cell_type": "markdown",
      "metadata": {
        "id": "PWnsI0i_guWJ"
      },
      "source": [
        "### Recommendations:\n",
        "\n",
        "  1. Need to understand the customer experience for all customers who have ordered only once or twice. If Food Hub can identify and remove the root-cause, these customers might order more often. This can be done by offering some discount for feedback.\n",
        "\n",
        "  2. There some restaurants and cusines which are low on order counts or order amount. More advertisements, offers or notifications on special events for these cuisine type or restautants could be helpful to attrack customers attention. Also, requesting feedback on different attributes like Food/packaging quality, delivery time, value for money could be helpful to understand the area of improvements\n",
        "\n",
        "  3. Foodhub should consider to include more restaurants of top rated and popular restaurants and cuisines. This will increase number of customers of Food Hub.\n",
        "\n",
        "  4. Average delivery time  on weekdays is lower than weekend even though demand is significantly low on weekdays. Foodhub should identify the root causes like lack of delivery person or high traffic or longer distance.\n",
        "  Adding delivery distance could be helpful for better understanding of delivery time. All these can enhance user delivery experince.\n",
        "\n",
        "  5. For majority of the orders, rating were not given. If Food Hub can offer some icentives or discounts to customers with request for proving rating , this can majorly change the analysis of the demands for given dataset\n",
        "\n",
        "\n",
        "\n",
        "\n"
      ]
    },
    {
      "cell_type": "markdown",
      "metadata": {
        "id": "tSoucKKbg9Hc"
      },
      "source": [
        "---"
      ]
    }
  ],
  "metadata": {
    "colab": {
      "collapsed_sections": [],
      "provenance": []
    },
    "kernelspec": {
      "display_name": "Python 3 (ipykernel)",
      "language": "python",
      "name": "python3"
    },
    "language_info": {
      "codemirror_mode": {
        "name": "ipython",
        "version": 3
      },
      "file_extension": ".py",
      "mimetype": "text/x-python",
      "name": "python",
      "nbconvert_exporter": "python",
      "pygments_lexer": "ipython3",
      "version": "3.9.7"
    }
  },
  "nbformat": 4,
  "nbformat_minor": 0
}